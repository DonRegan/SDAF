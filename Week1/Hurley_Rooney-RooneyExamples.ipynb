{
 "cells": [
  {
   "cell_type": "markdown",
   "metadata": {
    "slideshow": {
     "slide_type": "slide"
    }
   },
   "source": [
    "# Week 1: Our Approach to Modelling Data\n",
    "## [Peter Hurley](http://www.sussex.ac.uk/profiles/188689) and [Phil Rooney](http://www.sussex.ac.uk/profiles/252374) \n",
    "### Astronomy Centre, Maths and Physical Sciences"
   ]
  },
  {
   "cell_type": "markdown",
   "metadata": {
    "slideshow": {
     "slide_type": "slide"
    }
   },
   "source": [
    "# Examples\n",
    "-----------------"
   ]
  },
  {
   "cell_type": "markdown",
   "metadata": {},
   "source": [
    "## Single Variable\n",
    "\n",
    "<img src=\"https://astronomy.sussex.ac.uk/~pr83/onevar.png\" />\n",
    "\n"
   ]
  },
  {
   "cell_type": "code",
   "execution_count": 41,
   "metadata": {
    "collapsed": false
   },
   "outputs": [
    {
     "data": {
      "text/plain": [
       "Inference for Stan model: anon_model_08f3dae424b59a035b3b9af363c1083c.\n",
       "4 chains, each with iter=10000; warmup=5000; thin=1; \n",
       "post-warmup draws per chain=5000, total post-warmup draws=20000.\n",
       "\n",
       "        mean se_mean     sd   2.5%    25%    50%    75%  97.5%  n_eff   Rhat\n",
       "theta   0.51  2.7e-4   0.02   0.47    0.5   0.51   0.52   0.54 4240.0    1.0\n",
       "lp__  -556.2 10.0e-3   0.69 -558.2 -556.4 -556.0 -555.8 -555.7 4814.0    1.0\n",
       "\n",
       "Samples were drawn using NUTS(diag_e) at Mon Jul 18 13:35:51 2016.\n",
       "For each parameter, n_eff is a crude measure of effective sample size,\n",
       "and Rhat is the potential scale reduction factor on split chains (at \n",
       "convergence, Rhat=1)."
      ]
     },
     "execution_count": 41,
     "metadata": {},
     "output_type": "execute_result"
    }
   ],
   "source": [
    "\n",
    "import pystan\n",
    "import numpy as np\n",
    "import seaborn as sns\n",
    "from astropy.table import Table\n",
    "%matplotlib inline\n",
    "\n",
    "\n",
    "one_var_model = \"\"\"\n",
    "\n",
    "// Inferring a Rate\n",
    "data { \n",
    "  int<lower=1> n; \n",
    "  int<lower=0> k;\n",
    "} \n",
    "parameters {\n",
    "  real<lower=0,upper=1> theta;\n",
    "} \n",
    "model {\n",
    "  // Prior Distribution for Rate Theta\n",
    "  theta ~ beta(1, 1);\n",
    "  \n",
    "  // Observed Counts\n",
    "  k ~ binomial(n, theta);\n",
    "}\n",
    "\"\"\"\n",
    "\n",
    "k = 9\n",
    "n = 20\n",
    "\n",
    "k = 407\n",
    "n = 800\n",
    "\n",
    "input_data = {'k':k, 'n':n}\n",
    "\n",
    "fit_onevar = pystan.stan(model_code=one_var_model, data=input_data, iter=10000, chains=4)\n",
    "\n",
    "\n",
    "fit_onevar\n",
    "\n"
   ]
  },
  {
   "cell_type": "code",
   "execution_count": 42,
   "metadata": {
    "collapsed": false,
    "scrolled": true
   },
   "outputs": [
    {
     "data": {
      "image/png": "[encoded data removed]",
      "text/plain": [
       "<matplotlib.figure.Figure at 0x11a96a4d0>"
      ]
     },
     "metadata": {},
     "output_type": "display_data"
    }
   ],
   "source": [
    "\n",
    "from __future__ import unicode_literals\n",
    "\n",
    "import matplotlib as mpl\n",
    "mpl.rcParams['text.usetex']=True\n",
    "mpl.rcParams['text.latex.unicode']=True\n",
    "\n",
    "import csv\n",
    "import numpy as np\n",
    "import matplotlib.pyplot as plt\n",
    "from matplotlib.ticker import ScalarFormatter\n",
    "\n",
    "samples=fit_onevar.extract(permuted=False, inc_warmup=False)\n",
    "samples=samples[:,:,0].reshape(samples.shape[0]*samples.shape[1])\n",
    "\n",
    "fig = plt.figure()\n",
    "ax1 = fig.add_subplot(1,1,1)\n",
    "\n",
    "ax1.hist(samples, 30, color='#A3C2FF')\n",
    "ax1.set_axis_bgcolor('#F1F2F2')\n",
    "ax1.tick_params(axis=\"y\", labelcolor=\"b\")\n",
    "ax1.spines['right'].set_visible(False)\n",
    "ax1.spines['top'].set_visible(False)\n",
    "ax1.tick_params(axis='x', colors='#414042', labelcolor='#414042')\n",
    "ax1.tick_params(axis='y', colors='#414042',labelcolor='#414042')\n",
    "ax1.yaxis.label.set_color('#414042')\n",
    "ax1.xaxis.label.set_color('#414042')\n",
    "# Only show ticks on the left and bottom spines\n",
    "ax1.yaxis.set_ticks_position('left')\n",
    "ax1.xaxis.set_ticks_position('bottom')\n",
    "ax1.axhline(color='#414042', linewidth=2)\n",
    "\n",
    "plt.ylabel('Number of Bins)', color='#414042')\n",
    "ax1.spines['top'].set_color('red')\n",
    "\n",
    "plt.ylabel('Number of Trials', fontsize=20)\n",
    "plt.xlabel('Theta', fontsize=20)\n",
    "\n",
    "plt.show()"
   ]
  },
  {
   "cell_type": "markdown",
   "metadata": {},
   "source": [
    "\n",
    "## Schools "
   ]
  },
  {
   "cell_type": "markdown",
   "metadata": {},
   "source": [
    "## Pearson Product Moment Correlation ##"
   ]
  },
  {
   "cell_type": "markdown",
   "metadata": {
    "slideshow": {
     "slide_type": "subslide"
    }
   },
   "source": [
    "<img src=\"https://astronomy.sussex.ac.uk/~pr83/pearson_corr.png\" />\n",
    "\n"
   ]
  },
  {
   "cell_type": "code",
   "execution_count": 45,
   "metadata": {
    "collapsed": false
   },
   "outputs": [
    {
     "data": {
      "text/plain": [
       "Inference for Stan model: anon_model_cbdffd142e6b5f7643dd9a16a8322d7b.\n",
       "4 chains, each with iter=10000; warmup=5000; thin=1; \n",
       "post-warmup draws per chain=5000, total post-warmup draws=20000.\n",
       "\n",
       "            mean se_mean     sd   2.5%    25%    50%    75%  97.5%  n_eff   Rhat\n",
       "mu[0]       0.91  1.1e-3   0.07   0.77   0.86   0.91   0.96   1.05 4159.0    1.0\n",
       "mu[1]      99.59    0.03   1.75   96.1  98.46  99.58 100.73 103.01 4141.0    1.0\n",
       "lambda[0]   9.85    0.05   2.98   4.83   7.75   9.57  11.66  16.49 4320.0    1.0\n",
       "lambda[1]   0.02  7.9e-5 5.1e-3 8.2e-3   0.01   0.02   0.02   0.03 4199.0    1.0\n",
       "r          -0.76  1.5e-3   0.09   -0.9  -0.83  -0.78  -0.71  -0.54 3931.0    1.0\n",
       "sigma[0]    0.33  8.4e-4   0.05   0.25   0.29   0.32   0.36   0.45 4019.0    1.0\n",
       "sigma[1]    8.03    0.02    1.3   5.96   7.11   7.87   8.76  11.02 3853.0    1.0\n",
       "T[0,0]      0.11  6.1e-4   0.04   0.06   0.09    0.1   0.13   0.21 3913.0    1.0\n",
       "T[1,0]     -2.09    0.01   0.81   -4.1  -2.47  -1.94  -1.54  -0.98 3092.0    1.0\n",
       "T[0,1]     -2.09    0.01   0.81   -4.1  -2.47  -1.94  -1.54  -0.98 3092.0    1.0\n",
       "T[1,1]     66.13    0.37  22.63  35.57  50.53  61.86  76.72 121.35 3718.0    1.0\n",
       "lp__      -39.12    0.03   1.69 -43.31 -39.97 -38.76 -37.89  -36.9 3769.0    1.0\n",
       "\n",
       "Samples were drawn using NUTS(diag_e) at Mon Jul 18 13:39:29 2016.\n",
       "For each parameter, n_eff is a crude measure of effective sample size,\n",
       "and Rhat is the potential scale reduction factor on split chains (at \n",
       "convergence, Rhat=1)."
      ]
     },
     "execution_count": 45,
     "metadata": {},
     "output_type": "execute_result"
    }
   ],
   "source": [
    "pearson_model = \"\"\"\n",
    "// Pearson Correlation\n",
    "data { \n",
    "  int<lower=0> n;\n",
    "  vector[2] x[n];\n",
    "}\n",
    "parameters {\n",
    "  vector[2] mu;\n",
    "  vector<lower=0>[2] lambda;\n",
    "  real<lower=-1,upper=1> r;\n",
    "} \n",
    "transformed parameters {\n",
    "  vector<lower=0>[2] sigma;\n",
    "  cov_matrix[2] T;\n",
    "  // Reparameterization\n",
    "  sigma[1] <- inv_sqrt(lambda[1]);\n",
    "  sigma[2] <- inv_sqrt(lambda[2]);\n",
    "  T[1,1] <- square(sigma[1]);\n",
    "  T[1,2] <- r * sigma[1] * sigma[2];\n",
    "  T[2,1] <- r * sigma[1] * sigma[2];\n",
    "  T[2,2] <- square(sigma[2]);\n",
    "}\n",
    "model {\n",
    "  // Priors\n",
    "  mu ~ normal(0, inv_sqrt(.001));\n",
    "  lambda ~ gamma(.001, .001);\n",
    "  \n",
    "  // Data\n",
    "  x ~ multi_normal(mu, T);\n",
    "}\n",
    "\"\"\"\n",
    "\n",
    "#pearson_data = np.matrix([[.8,102], [1.0,98], [.5,100], [.9,105], [.7,103], [.4,110], [1.2,99], [1.4,87], [.6,113], [1.1,89], [1.3,93]])\n",
    "pearson_data = np.matrix([[.8,102,],[1.0,98,],[.5,100,],[.9,105,],[.7,103,],[.4,110,],[1.2,99,],[1.4,87,],[.6,113,],[1.1,89,],[1.3,93,],[.8,102,],[1.0,98,],[.5,100,],[.9,105,],[.7,103,],[.4,110,],[1.2,99,],[1.4,87,],[.6,113,],[1.1,89,],[1.3,93]])\n",
    "#n = 11\n",
    "n = 22\n",
    "parameters ={\"r\", \"mu\", \"sigma\"}\n",
    "\n",
    "data = {'x':pearson_data, 'n':n}\n",
    "\n",
    "samples_pearson = pystan.stan(model_code=pearson_model, data=data, iter=10000, chains=4)\n",
    "\n",
    "samples_pearson"
   ]
  },
  {
   "cell_type": "code",
   "execution_count": 46,
   "metadata": {
    "collapsed": false
   },
   "outputs": [
    {
     "data": {
      "image/png": "[encoded data removed]",
      "text/plain": [
       "<matplotlib.figure.Figure at 0x11ab1a090>"
      ]
     },
     "metadata": {},
     "output_type": "display_data"
    }
   ],
   "source": [
    "\n",
    "samples=samples_pearson.extract(permuted=False, inc_warmup=False)\n",
    "samples=samples[:,:,4].reshape(samples.shape[0]*samples.shape[1])\n",
    "\n",
    "fig = plt.figure()\n",
    "ax1 = fig.add_subplot(1,1,1)\n",
    "\n",
    "ax1.hist(samples, 30, color='#A3C2FF')\n",
    "ax1.set_axis_bgcolor('#F1F2F2')\n",
    "ax1.tick_params(axis=\"y\", labelcolor=\"b\")\n",
    "ax1.spines['right'].set_visible(False)\n",
    "ax1.spines['top'].set_visible(False)\n",
    "ax1.tick_params(axis='x', colors='#414042', labelcolor='#414042')\n",
    "ax1.tick_params(axis='y', colors='#414042',labelcolor='#414042')\n",
    "ax1.yaxis.label.set_color('#414042')\n",
    "ax1.xaxis.label.set_color('#414042')\n",
    "# Only show ticks on the left and bottom spines\n",
    "ax1.yaxis.set_ticks_position('left')\n",
    "ax1.xaxis.set_ticks_position('bottom')\n",
    "ax1.axhline(color='#414042', linewidth=2)\n",
    "\n",
    "plt.ylabel('Number of Bins)', color='#414042')\n",
    "ax1.spines['top'].set_color('red')\n",
    "\n",
    "plt.ylabel('Number of Trials', fontsize=20)\n",
    "plt.xlabel('r', fontsize=20)\n",
    "\n",
    "plt.show()"
   ]
  },
  {
   "cell_type": "markdown",
   "metadata": {},
   "source": [
    "$\\kappa$ Values\n",
    "\n",
    "<img src=\"https://astronomy.sussex.ac.uk/~pr83/kappa.png\" />\n",
    "\n"
   ]
  },
  {
   "cell_type": "code",
   "execution_count": 26,
   "metadata": {
    "collapsed": false
   },
   "outputs": [
    {
     "data": {
      "text/plain": [
       "Inference for Stan model: anon_model_730a353f049501aac63c4de3fe0e0a30.\n",
       "4 chains, each with iter=10000; warmup=5000; thin=1; \n",
       "post-warmup draws per chain=5000, total post-warmup draws=20000.\n",
       "\n",
       "        mean se_mean     sd   2.5%    25%    50%    75%  97.5%  n_eff   Rhat\n",
       "alpha 5.8e-3  7.7e-5 5.7e-3 1.5e-4 1.7e-3 4.1e-3 8.0e-3   0.02 5576.0    1.0\n",
       "beta    0.49  4.0e-3   0.29   0.02   0.24   0.49   0.75   0.98 5390.0    1.0\n",
       "gamma   0.92  3.0e-4   0.02   0.87   0.91   0.92   0.93   0.95 5026.0    1.0\n",
       "pi[0] 2.9e-3  5.2e-5 3.8e-3 2.3e-5 4.9e-4 1.6e-3 3.8e-3   0.01 5305.0    1.0\n",
       "pi[1] 2.9e-3  5.1e-5 3.7e-3 2.6e-5 5.2e-4 1.6e-3 3.9e-3   0.01 5212.0    1.0\n",
       "pi[2]   0.08  2.9e-4   0.02   0.04   0.07   0.08   0.09   0.13 5037.0    1.0\n",
       "pi[3]   0.91  3.0e-4   0.02   0.87    0.9   0.91   0.93   0.95 5018.0    1.0\n",
       "xi      0.92  3.0e-4   0.02   0.87    0.9   0.92   0.93   0.95 5015.0    1.0\n",
       "psi     0.91  3.1e-4   0.02   0.86    0.9   0.91   0.93   0.95 5041.0    1.0\n",
       "kappa   0.05  9.2e-4   0.07-6.2e-3 6.8e-3   0.03   0.07   0.23 5156.0    1.0\n",
       "lp__  -57.78    0.02   1.42  -61.5  -58.4 -57.42 -56.76 -56.19 3521.0    1.0\n",
       "\n",
       "Samples were drawn using NUTS(diag_e) at Mon Jul 18 11:30:56 2016.\n",
       "For each parameter, n_eff is a crude measure of effective sample size,\n",
       "and Rhat is the potential scale reduction factor on split chains (at \n",
       "convergence, Rhat=1)."
      ]
     },
     "execution_count": 26,
     "metadata": {},
     "output_type": "execute_result"
    }
   ],
   "source": [
    "kappa_model =\"\"\"\n",
    "// Kappa Coefficient of Agreement\n",
    "data { \n",
    "  int<lower=0> y[4];\n",
    "}\n",
    "parameters {\n",
    "  // Underlying Rates\n",
    "  // Rate Objective Method Decides 'one'\n",
    "  real<lower=0,upper=1> alpha;\n",
    "  // Rate Surrogate Method Decides 'one' When Objective Method Decides 'one'\n",
    "  real<lower=0,upper=1> beta;\n",
    "  // Rate Surrogate Method Decides 'zero' When Objective Method Decides 'zero'\n",
    "  real<lower=0,upper=1> gamma;\n",
    "} \n",
    "transformed parameters {\n",
    "  simplex[4] pi;\n",
    "  real xi;\n",
    "  real psi;\n",
    "  real kappa;\n",
    "  // Probabilities For Each Count\n",
    "  pi[1] <- alpha * beta;\n",
    "  pi[2] <- alpha * (1 - beta);\n",
    "  pi[3] <- (1 - alpha) * (1 - gamma);\n",
    "  pi[4] <- (1 - alpha) * gamma;\n",
    "    \n",
    "  // Derived Measures   \n",
    "  // Rate Surrogate Method Agrees With the Objective Method\n",
    "  xi <- alpha * beta + (1 - alpha) * gamma ;\n",
    "  // Rate of Chance Agreement\n",
    "  psi <- (pi[1] + pi[2]) * (pi[1] + pi[3]) + (pi[2] + pi[4]) * (pi[3] + pi[4]);  \n",
    "  // Chance-Corrected Agreement\n",
    "  kappa <- (xi - psi) / (1 - psi);\n",
    "}\n",
    "model {\n",
    "  alpha ~ beta(1, 1);  // could be removed\n",
    "  beta ~ beta(1, 1);  // could be removed\n",
    "  gamma ~ beta(1, 1);  // could be removed\n",
    "  // Count Data     \n",
    "  y ~ multinomial(pi);\n",
    "}\n",
    "\"\"\"\n",
    "# CHOOSE a data set:\n",
    "# Influenza \n",
    "#y = [14., 4., 5., 210.]\n",
    "# Rare Disease\n",
    "y = [0, 0, 13, 157]\n",
    "\n",
    "data = {'y':y}\n",
    "\n",
    "samples_kappa = pystan.stan(model_code=kappa_model, data=data, iter=10000, chains=4)\n",
    "\n",
    "samples_kappa"
   ]
  },
  {
   "cell_type": "code",
   "execution_count": 27,
   "metadata": {
    "collapsed": false
   },
   "outputs": [
    {
     "data": {
      "image/png": "[encoded data removed]",
      "text/plain": [
       "<matplotlib.figure.Figure at 0x11a24c810>"
      ]
     },
     "metadata": {},
     "output_type": "display_data"
    }
   ],
   "source": [
    "samples=samples_kappa.extract(permuted=False, inc_warmup=False)\n",
    "samples=samples[:,:,9].reshape(samples.shape[0]*samples.shape[1])\n",
    "\n",
    "fig = plt.figure()\n",
    "ax1 = fig.add_subplot(1,1,1)\n",
    "\n",
    "ax1.hist(samples, 30, color='#A3C2FF')\n",
    "ax1.set_axis_bgcolor('#F1F2F2')\n",
    "ax1.tick_params(axis=\"y\", labelcolor=\"b\")\n",
    "ax1.spines['right'].set_visible(False)\n",
    "ax1.spines['top'].set_visible(False)\n",
    "ax1.tick_params(axis='x', colors='#414042', labelcolor='#414042')\n",
    "ax1.tick_params(axis='y', colors='#414042',labelcolor='#414042')\n",
    "ax1.yaxis.label.set_color('#414042')\n",
    "ax1.xaxis.label.set_color('#414042')\n",
    "# Only show ticks on the left and bottom spines\n",
    "ax1.yaxis.set_ticks_position('left')\n",
    "ax1.xaxis.set_ticks_position('bottom')\n",
    "ax1.axhline(color='#414042', linewidth=2)\n",
    "\n",
    "plt.ylabel('Number of Bins)', color='#414042')\n",
    "ax1.spines['top'].set_color('red')\n",
    "\n",
    "plt.ylabel('Number of Trials', fontsize=20)\n",
    "plt.xlabel('kappa', fontsize=20)\n",
    "\n",
    "plt.show()"
   ]
  },
  {
   "cell_type": "code",
   "execution_count": 28,
   "metadata": {
    "collapsed": false
   },
   "outputs": [
    {
     "data": {
      "text/plain": [
       "0.0"
      ]
     },
     "execution_count": 28,
     "metadata": {},
     "output_type": "execute_result"
    }
   ],
   "source": [
    "y = [0., 0., 13., 157.]\n",
    "n = sum(y)\n",
    "p0 = (y[0]+y[3])/n\n",
    "pe = (((y[0]+y[1]) * (y[0]+y[2])) + ((y[1]+y[3]) * (y[2]+y[3]))) / (n*n)\n",
    "kappa_Cohen = (p0-pe) / (1-pe) \n",
    "kappa_Cohen"
   ]
  },
  {
   "cell_type": "code",
   "execution_count": 16,
   "metadata": {
    "collapsed": false,
    "slideshow": {
     "slide_type": "subslide"
    }
   },
   "outputs": [
    {
     "data": {
      "text/plain": [
       "<matplotlib.collections.PathCollection at 0x10c6e31d0>"
      ]
     },
     "execution_count": 16,
     "metadata": {},
     "output_type": "execute_result"
    },
    {
     "data": {
      "image/png": "[encoded data removed]",
      "text/plain": [
       "<matplotlib.figure.Figure at 0x10c373490>"
      ]
     },
     "metadata": {},
     "output_type": "display_data"
    }
   ],
   "source": [
    "import numpy as np\n",
    "import pylab as plt \n",
    "%matplotlib inline\n",
    "\n",
    "G1=np.random.multivariate_normal([2,4],[[1,0],[0,1]],200)\n",
    "G2=np.random.multivariate_normal([4,2],[[1,0],[0,1]],200)\n",
    "data=np.concatenate((G1,G2))\n",
    "plt.scatter(data[:,0],data[:,1])"
   ]
  },
  {
   "cell_type": "code",
   "execution_count": 59,
   "metadata": {
    "collapsed": true,
    "slideshow": {
     "slide_type": "skip"
    }
   },
   "outputs": [],
   "source": [
    "model=\"\"\"\n",
    "data {\n",
    "\n",
    "  int<lower=1> D;\n",
    "  int<lower=1> K;\n",
    "  int<lower=1> N;\n",
    "  vector[D] y[N]; //observations\n",
    "}\n",
    "\n",
    "parameters {\n",
    "  simplex[K] theta;\n",
    "  vector[D] mu[K];\n",
    "  real<lower=0,upper=10> sigma[K];  // scales of mixture components\n",
    "}\n",
    "\n",
    "model {\n",
    "  real ps[K];\n",
    "  for (k in 1:K) {\n",
    "\n",
    "    mu[k] ~ normal(0,10);\n",
    "  }\n",
    "\n",
    "  for (n in 1:N){\n",
    "  for(k in 1:K){\n",
    "\n",
    "    ps[k] <- log(theta[k])\n",
    "    + normal_log(y[n],mu[k],sigma[k]);\n",
    "}\n",
    "\n",
    "    increment_log_prob(log_sum_exp(ps));\n",
    "  }\n",
    "}\n",
    "\"\"\""
   ]
  },
  {
   "cell_type": "code",
   "execution_count": 60,
   "metadata": {
    "collapsed": false,
    "slideshow": {
     "slide_type": "skip"
    }
   },
   "outputs": [],
   "source": [
    "import pystan\n",
    "sm = pystan.StanModel(model_code=model)\n"
   ]
  },
  {
   "cell_type": "code",
   "execution_count": 65,
   "metadata": {
    "collapsed": true,
    "slideshow": {
     "slide_type": "skip"
    }
   },
   "outputs": [],
   "source": [
    "GMMdata={\n",
    "    'D':2,\n",
    "    'K':2,\n",
    "    'N':400,\n",
    "    'y':data\n",
    "}"
   ]
  },
  {
   "cell_type": "code",
   "execution_count": 68,
   "metadata": {
    "collapsed": false,
    "slideshow": {
     "slide_type": "skip"
    }
   },
   "outputs": [],
   "source": [
    "fit = sm.sampling(data=GMMdata,iter=1000, chains=1)"
   ]
  },
  {
   "cell_type": "code",
   "execution_count": 69,
   "metadata": {
    "collapsed": false,
    "slideshow": {
     "slide_type": "subslide"
    }
   },
   "outputs": [
    {
     "name": "stdout",
     "output_type": "stream",
     "text": [
      "Inference for Stan model: anon_model_d7a05c9f98b0bd755c75155d804c7f5a.\n",
      "1 chains, each with iter=1000; warmup=500; thin=1; \n",
      "post-warmup draws per chain=500, total post-warmup draws=500.\n",
      "\n",
      "           mean se_mean     sd   2.5%    25%    50%    75%  97.5%  n_eff   Rhat\n",
      "theta[0]   0.48  4.1e-3   0.04   0.39   0.45   0.48   0.51   0.57  116.0    1.0\n",
      "theta[1]   0.52  4.1e-3   0.04   0.43   0.49   0.52   0.55   0.61  116.0    1.0\n",
      "mu[0,0]    2.01  9.8e-3   0.11    1.8   1.94   2.01   2.09   2.22  126.0    1.0\n",
      "mu[1,0]    3.96  8.6e-3    0.1   3.76    3.9   3.96   4.02   4.16  121.0    1.0\n",
      "mu[0,1]    4.01    0.01   0.11   3.78   3.94    4.0   4.09   4.24  123.0    1.0\n",
      "mu[1,1]    2.02  8.6e-3    0.1   1.83   1.96   2.02   2.09    2.2  124.0    1.0\n",
      "sigma[0]   1.05  4.9e-3   0.05   0.96   1.02   1.05   1.09   1.16  121.0    1.0\n",
      "sigma[1]   1.01  4.3e-3   0.05   0.92   0.97   1.01   1.04    1.1  118.0    1.0\n",
      "lp__      -1349    0.17   1.85  -1354  -1350  -1349  -1348  -1346  113.0    1.0\n",
      "\n",
      "Samples were drawn using NUTS(diag_e) at Fri Jul 15 20:16:32 2016.\n",
      "For each parameter, n_eff is a crude measure of effective sample size,\n",
      "and Rhat is the potential scale reduction factor on split chains (at \n",
      "convergence, Rhat=1).\n"
     ]
    }
   ],
   "source": [
    "print fit"
   ]
  },
  {
   "cell_type": "code",
   "execution_count": 70,
   "metadata": {
    "collapsed": true,
    "slideshow": {
     "slide_type": "subslide"
    }
   },
   "outputs": [],
   "source": [
    "samples=fit.extract(permuted=False, inc_warmup=False)"
   ]
  },
  {
   "cell_type": "code",
   "execution_count": 88,
   "metadata": {
    "collapsed": false,
    "slideshow": {
     "slide_type": "subslide"
    }
   },
   "outputs": [
    {
     "name": "stdout",
     "output_type": "stream",
     "text": [
      "[0.5458490399648471, 1.091698079929167, 4.912641359683624, 18.558867358803749]\n"
     ]
    },
    {
     "data": {
      "text/plain": [
       "<matplotlib.collections.PathCollection at 0x1210e3710>"
      ]
     },
     "execution_count": 88,
     "metadata": {},
     "output_type": "execute_result"
    },
    {
     "data": {
      "image/png": "[encoded data removed]",
      "text/plain": [
       "<matplotlib.figure.Figure at 0x11a714b50>"
      ]
     },
     "metadata": {},
     "output_type": "display_data"
    }
   ],
   "source": [
    "import seaborn as sns\n",
    "sns.set(color_codes=True,font_scale=1.5)\n",
    "import pandas as pd\n",
    "sns.set_style(\"white\")\n",
    "\n",
    "\n",
    "\n",
    "s1=2\n",
    "s2=3\n",
    "import scipy\n",
    "# Make a 2d normed histogram\n",
    "H,xedges,yedges=np.histogram2d(samples[:,:,[s1]].reshape(samples.shape[0]*samples.shape[1]),samples[:,:,[s2]].reshape(samples.shape[0]*samples.shape[1]),bins=10,normed=True)\n",
    "\n",
    "norm=H.sum() # Find the norm of the sum\n",
    "# Set contour levels\n",
    "contour1=0.99\n",
    "contour2=0.95\n",
    "contour3=0.68\n",
    "\n",
    "# Set target levels as percentage of norm\n",
    "target1 = norm*contour1\n",
    "target2 = norm*contour2\n",
    "target3 = norm*contour3\n",
    "\n",
    "# Take histogram bin membership as proportional to Likelihood\n",
    "# This is true when data comes from a Markovian process\n",
    "def objective(limit, target):\n",
    "    w = np.where(H>limit)\n",
    "    count = H[w]\n",
    "    return count.sum() - target\n",
    "\n",
    "# Find levels by summing histogram to objective\n",
    "level1= scipy.optimize.bisect(objective, H.min(), H.max(), args=(target1,))\n",
    "level2= scipy.optimize.bisect(objective, H.min(), H.max(), args=(target2,))\n",
    "level3= scipy.optimize.bisect(objective, H.min(), H.max(), args=(target3,))\n",
    "\n",
    "# For nice contour shading with seaborn, define top level\n",
    "level4=H.max()\n",
    "levels=[level1,level2,level3,level4]\n",
    "\n",
    "print levels\n",
    "\n",
    "labels=[r'$\\mu_x$',r'$\\mu_y$']\n",
    "df = pd.DataFrame(samples[:,:,[s1,s2]].reshape(samples.shape[0]*samples.shape[1],2),columns=labels)\n",
    "g = sns.PairGrid(df,size=5)\n",
    "g.map_diag(sns.kdeplot,c='Red')\n",
    "g.map_lower(sns.kdeplot, cmap=\"Reds_d\",alpha=1,n_levels=levels,normed=True,shade=True,zorder=1)\n",
    "\n",
    "#g.set(ylim=(-1,3))\n",
    "#g.set(xlim=(-1,3))\n",
    "s1=4\n",
    "s2=5\n",
    "\n",
    "# Make a 2d normed histogram\n",
    "H,xedges,yedges=np.histogram2d(samples[:,:,[s1]].reshape(samples.shape[0]*samples.shape[1]),samples[:,:,[s2]].reshape(samples.shape[0]*samples.shape[1]),bins=10,normed=True)\n",
    "\n",
    "norm=H.sum() # Find the norm of the sum\n",
    "# Set contour levels\n",
    "contour1=0.99\n",
    "contour2=0.95\n",
    "contour3=0.68\n",
    "\n",
    "# Set target levels as percentage of norm\n",
    "target1 = norm*contour1\n",
    "target2 = norm*contour2\n",
    "target3 = norm*contour3\n",
    "\n",
    "# Take histogram bin membership as proportional to Likelihood\n",
    "# This is true when data comes from a Markovian process\n",
    "def objective(limit, target):\n",
    "    w = np.where(H>limit)\n",
    "    count = H[w]\n",
    "    return count.sum() - target\n",
    "\n",
    "# Find levels by summing histogram to objective\n",
    "level1= scipy.optimize.bisect(objective, H.min(), H.max(), args=(target1,))\n",
    "level2= scipy.optimize.bisect(objective, H.min(), H.max(), args=(target2,))\n",
    "level3= scipy.optimize.bisect(objective, H.min(), H.max(), args=(target3,))\n",
    "\n",
    "# For nice contour shading with seaborn, define top level\n",
    "level4=H.max()\n",
    "levels=[level1,level2,level3,level4]\n",
    "\n",
    "g.data=pd.DataFrame(samples[:,:,[s1,s2]].reshape(samples.shape[0]*samples.shape[1],2),columns=labels)\n",
    "g.map_diag(sns.kdeplot,c='Blue')\n",
    "g.map_lower(sns.kdeplot, cmap=\"Blues_d\",alpha=1,n_levels=levels,normed=True,shade=True,zorder=1)\n",
    "g.axes[1,0].scatter(data[:,0],data[:,1],alpha=0.5)\n",
    "\n",
    "\n"
   ]
  },
  {
   "cell_type": "code",
   "execution_count": null,
   "metadata": {
    "collapsed": true
   },
   "outputs": [],
   "source": []
  }
 ],
 "metadata": {
  "celltoolbar": "Slideshow",
  "kernelspec": {
   "display_name": "Python 2",
   "language": "python",
   "name": "python2"
  },
  "language_info": {
   "codemirror_mode": {
    "name": "ipython",
    "version": 2
   },
   "file_extension": ".py",
   "mimetype": "text/x-python",
   "name": "python",
   "nbconvert_exporter": "python",
   "pygments_lexer": "ipython2",
   "version": "2.7.9"
  }
 },
 "nbformat": 4,
 "nbformat_minor": 0
}
