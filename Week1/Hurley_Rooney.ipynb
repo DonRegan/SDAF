{
 "cells": [
  {
   "cell_type": "markdown",
   "metadata": {
    "slideshow": {
     "slide_type": "slide"
    }
   },
   "source": [
    "# Week 1: Our Approach to Modelling Data\n",
    "## [Peter Hurley](http://www.sussex.ac.uk/profiles/188689) and [Phil Rooney](http://www.sussex.ac.uk/profiles/252374) "
   ]
  },
  {
   "cell_type": "markdown",
   "metadata": {
    "slideshow": {
     "slide_type": "slide"
    }
   },
   "source": [
    "## Bayesian Probability"
   ]
  },
  {
   "cell_type": "markdown",
   "metadata": {
    "slideshow": {
     "slide_type": "subslide"
    }
   },
   "source": [
    "### Medical Example"
   ]
  },
  {
   "cell_type": "markdown",
   "metadata": {
    "slideshow": {
     "slide_type": "subslide"
    }
   },
   "source": [
    "### Saturn Example"
   ]
  },
  {
   "cell_type": "markdown",
   "metadata": {
    "slideshow": {
     "slide_type": "subslide"
    }
   },
   "source": [
    "### Bayesian Inference"
   ]
  },
  {
   "cell_type": "markdown",
   "metadata": {
    "slideshow": {
     "slide_type": "slide"
    }
   },
   "source": [
    "## Probabilistic Programming\n",
    "\n",
    "Machine learning = black box"
   ]
  },
  {
   "cell_type": "markdown",
   "metadata": {},
   "source": [
    "#### Neuro example of black box problems"
   ]
  },
  {
   "cell_type": "markdown",
   "metadata": {},
   "source": [
    "## Generative modelling"
   ]
  },
  {
   "cell_type": "markdown",
   "metadata": {
    "slideshow": {
     "slide_type": "slide"
    }
   },
   "source": [
    "## Graphical Models\n",
    "\n",
    "No single agreed notation but:\n",
    "\n",
    "Always: \n",
    "\n",
    "Nodes represent variables and graph structure represent dependencies\n",
    "\n",
    "Almost Always: \n",
    "\n",
    "Plates indicate replication\n",
    "\n",
    "Optional Distinctions: \n",
    "\n",
    "Continuous vs Discrete\n",
    "Observed vs Hidden \n",
    "Stocastic vs Deterministic\n",
    "Observed Variables vs Known Property of Experimental Design"
   ]
  },
  {
   "cell_type": "markdown",
   "metadata": {},
   "source": [
    "### Binary process"
   ]
  },
  {
   "cell_type": "markdown",
   "metadata": {},
   "source": [
    "### Real world: Sprinkler grass wet"
   ]
  },
  {
   "cell_type": "markdown",
   "metadata": {
    "slideshow": {
     "slide_type": "slide"
    }
   },
   "source": [
    "## Pros and Cons\n"
   ]
  },
  {
   "cell_type": "markdown",
   "metadata": {
    "slideshow": {
     "slide_type": "slide"
    }
   },
   "source": [
    "# Examples\n",
    "-----------------"
   ]
  },
  {
   "cell_type": "markdown",
   "metadata": {},
   "source": [
    "## Single Variable\n",
    "\n"
   ]
  },
  {
   "cell_type": "code",
   "execution_count": 10,
   "metadata": {
    "collapsed": false
   },
   "outputs": [],
   "source": [
    "\n",
    "import pystan\n",
    "import numpy as np\n",
    "import seaborn as sns\n",
    "from astropy.table import Table\n",
    "%matplotlib inline\n",
    "\n",
    "\n",
    "one_vat_model = \"\"\"\n",
    "\n",
    "// Inferring a Rate\n",
    "data { \n",
    "  int<lower=1> n; \n",
    "  int<lower=0> k;\n",
    "} \n",
    "parameters {\n",
    "  real<lower=0,upper=1> theta;\n",
    "} \n",
    "model {\n",
    "  // Prior Distribution for Rate Theta\n",
    "  theta ~ beta(1, 1);\n",
    "  \n",
    "  // Observed Counts\n",
    "  k ~ binomial(n, theta);\n",
    "}\n",
    "\"\"\"\n",
    "\n",
    "k = 10\n",
    "n = 20\n",
    "\n",
    "input_data = {'k':10, 'n':20}\n",
    "\n",
    "samples = pystan.stan(model_code=one_vat_model, data=input_data, iter=10000, chains=2\n",
    ")\n"
   ]
  },
  {
   "cell_type": "markdown",
   "metadata": {},
   "source": [
    "## Schools "
   ]
  },
  {
   "cell_type": "markdown",
   "metadata": {},
   "source": [
    "## $p$ values"
   ]
  },
  {
   "cell_type": "code",
   "execution_count": 19,
   "metadata": {
    "collapsed": false
   },
   "outputs": [
    {
     "ename": "TypeError",
     "evalue": "bad operand type for unary -: 'stanfit4anon_model_cbdffd142e6b5f7643dd9a16a8322d7b_7250049168657858168.StanFit4Model'",
     "output_type": "error",
     "traceback": [
      "\u001b[0;31m---------------------------------------------------------------------------\u001b[0m",
      "\u001b[0;31mTypeError\u001b[0m                                 Traceback (most recent call last)",
      "\u001b[0;32m<ipython-input-19-d38312d9faa7>\u001b[0m in \u001b[0;36m<module>\u001b[0;34m()\u001b[0m\n\u001b[1;32m     39\u001b[0m \u001b[0mdata\u001b[0m \u001b[0;34m=\u001b[0m \u001b[0;34m{\u001b[0m\u001b[0;34m'x'\u001b[0m\u001b[0;34m:\u001b[0m\u001b[0mpearson_data\u001b[0m\u001b[0;34m,\u001b[0m \u001b[0;34m'n'\u001b[0m\u001b[0;34m:\u001b[0m\u001b[0mn\u001b[0m\u001b[0;34m}\u001b[0m\u001b[0;34m\u001b[0m\u001b[0m\n\u001b[1;32m     40\u001b[0m \u001b[0;34m\u001b[0m\u001b[0m\n\u001b[0;32m---> 41\u001b[0;31m \u001b[0msamples\u001b[0m \u001b[0;34m<\u001b[0m\u001b[0;34m-\u001b[0m \u001b[0mpystan\u001b[0m\u001b[0;34m.\u001b[0m\u001b[0mstan\u001b[0m\u001b[0;34m(\u001b[0m\u001b[0mmodel_code\u001b[0m\u001b[0;34m=\u001b[0m\u001b[0mpearson_model\u001b[0m\u001b[0;34m,\u001b[0m \u001b[0mdata\u001b[0m\u001b[0;34m=\u001b[0m\u001b[0mdata\u001b[0m\u001b[0;34m,\u001b[0m \u001b[0mpars\u001b[0m\u001b[0;34m=\u001b[0m\u001b[0mparameters\u001b[0m\u001b[0;34m,\u001b[0m \u001b[0miter\u001b[0m\u001b[0;34m=\u001b[0m\u001b[0;36m10000\u001b[0m\u001b[0;34m,\u001b[0m \u001b[0mchains\u001b[0m\u001b[0;34m=\u001b[0m\u001b[0;36m1\u001b[0m\u001b[0;34m)\u001b[0m\u001b[0;34m\u001b[0m\u001b[0m\n\u001b[0m",
      "\u001b[0;31mTypeError\u001b[0m: bad operand type for unary -: 'stanfit4anon_model_cbdffd142e6b5f7643dd9a16a8322d7b_7250049168657858168.StanFit4Model'"
     ]
    }
   ],
   "source": [
    "pearson_model = \"\"\"\n",
    "// Pearson Correlation\n",
    "data { \n",
    "  int<lower=0> n;\n",
    "  vector[2] x[n];\n",
    "}\n",
    "parameters {\n",
    "  vector[2] mu;\n",
    "  vector<lower=0>[2] lambda;\n",
    "  real<lower=-1,upper=1> r;\n",
    "} \n",
    "transformed parameters {\n",
    "  vector<lower=0>[2] sigma;\n",
    "  cov_matrix[2] T;\n",
    "  // Reparameterization\n",
    "  sigma[1] <- inv_sqrt(lambda[1]);\n",
    "  sigma[2] <- inv_sqrt(lambda[2]);\n",
    "  T[1,1] <- square(sigma[1]);\n",
    "  T[1,2] <- r * sigma[1] * sigma[2];\n",
    "  T[2,1] <- r * sigma[1] * sigma[2];\n",
    "  T[2,2] <- square(sigma[2]);\n",
    "}\n",
    "model {\n",
    "  // Priors\n",
    "  mu ~ normal(0, inv_sqrt(.001));\n",
    "  lambda ~ gamma(.001, .001);\n",
    "  \n",
    "  // Data\n",
    "  x ~ multi_normal(mu, T);\n",
    "}\n",
    "\"\"\"\n",
    "\n",
    "pearson_data = np.matrix([[.8,102], [1.0,98], [.5,100], [.9,105], [.7,103], [.4,110], [1.2,99], [1.4,87], [.6,113], [1.1,89], [1.3,93]])\n",
    "#pearson_data = np.matrix([[.8,102,],[1.0,98,],[.5,100,],[.9,105,],[.7,103,],[.4,110,],[1.2,99,],[1.4,87,],[.6,113,],[1.1,89,],[1.3,93,],[.8,102,],[1.0,98,],[.5,100,],[.9,105,],[.7,103,],[.4,110,],[1.2,99,],[1.4,87,],[.6,113,],[1.1,89,],[1.3,93]])\n",
    "n = 11\n",
    "# n = 22\n",
    "parameters ={\"r\", \"mu\", \"sigma\"}\n",
    "\n",
    "data = {'x':pearson_data, 'n':n}\n",
    "\n",
    "samples <- pystan.stan(model_code=pearson_model, data=data, pars=parameters, iter=10000, chains=1)"
   ]
  },
  {
   "cell_type": "markdown",
   "metadata": {},
   "source": [
    "$\\kappa$ Values"
   ]
  },
  {
   "cell_type": "code",
   "execution_count": null,
   "metadata": {
    "collapsed": true
   },
   "outputs": [],
   "source": [
    "kappa_model =\"\"\"\n",
    "// Kappa Coefficient of Agreement\n",
    "data { \n",
    "  int<lower=0> y[4];\n",
    "}\n",
    "parameters {\n",
    "  // Underlying Rates\n",
    "  // Rate Objective Method Decides 'one'\n",
    "  real<lower=0,upper=1> alpha;\n",
    "  // Rate Surrogate Method Decides 'one' When Objective Method Decides 'one'\n",
    "  real<lower=0,upper=1> beta;\n",
    "  // Rate Surrogate Method Decides 'zero' When Objective Method Decides 'zero'\n",
    "  real<lower=0,upper=1> gamma;\n",
    "} \n",
    "transformed parameters {\n",
    "  simplex[4] pi;\n",
    "  real xi;\n",
    "  real psi;\n",
    "  real kappa;\n",
    "  // Probabilities For Each Count\n",
    "  pi[1] <- alpha * beta;\n",
    "  pi[2] <- alpha * (1 - beta);\n",
    "  pi[3] <- (1 - alpha) * (1 - gamma);\n",
    "  pi[4] <- (1 - alpha) * gamma;\n",
    "    \n",
    "  // Derived Measures   \n",
    "  // Rate Surrogate Method Agrees With the Objective Method\n",
    "  xi <- alpha * beta + (1 - alpha) * gamma ;\n",
    "  // Rate of Chance Agreement\n",
    "  psi <- (pi[1] + pi[2]) * (pi[1] + pi[3]) + (pi[2] + pi[4]) * (pi[3] + pi[4]);  \n",
    "  // Chance-Corrected Agreement\n",
    "  kappa <- (xi - psi) / (1 - psi);\n",
    "}\n",
    "model {\n",
    "  alpha ~ beta(1, 1);  // could be removed\n",
    "  beta ~ beta(1, 1);  // could be removed\n",
    "  gamma ~ beta(1, 1);  // could be removed\n",
    "  // Count Data     \n",
    "  y ~ multinomial(pi);\n",
    "}\n",
    "\"\"\"\n",
    "# CHOOSE a data set:\n",
    "# Influenza \n",
    "y = {14, 4, 5, 210}\n",
    "# Hearing Loss \n",
    "# y <- {20, 7, 103, 417}\n",
    "# Rare Disease\n",
    "# y <- {0, 0, 13, 157}\n",
    "\n",
    "data = {'y':y}\n",
    "parameters = {\"kappa\", \"xi\", \"psi\", \"alpha\", \"beta\", \"gamma\", \"pi\"}"
   ]
  },
  {
   "cell_type": "markdown",
   "metadata": {},
   "source": [
    "## Regression"
   ]
  },
  {
   "cell_type": "markdown",
   "metadata": {},
   "source": [
    "#### Correlated Errors"
   ]
  },
  {
   "cell_type": "markdown",
   "metadata": {},
   "source": [
    "## Gaussian Mixtures Modelling"
   ]
  },
  {
   "cell_type": "code",
   "execution_count": null,
   "metadata": {
    "collapsed": true
   },
   "outputs": [],
   "source": []
  }
 ],
 "metadata": {
  "celltoolbar": "Slideshow",
  "kernelspec": {
   "display_name": "Python 2",
   "language": "python",
   "name": "python2"
  },
  "language_info": {
   "codemirror_mode": {
    "name": "ipython",
    "version": 2
   },
   "file_extension": ".py",
   "mimetype": "text/x-python",
   "name": "python",
   "nbconvert_exporter": "python",
   "pygments_lexer": "ipython2",
   "version": "2.7.9"
  }
 },
 "nbformat": 4,
 "nbformat_minor": 0
}
