{
 "cells": [
  {
   "cell_type": "markdown",
   "metadata": {
    "slideshow": {
     "slide_type": "slide"
    }
   },
   "source": [
    "# Week 1: Our Approach to Modelling Data\n",
    "## [Peter Hurley](http://www.sussex.ac.uk/profiles/188689) and [Phil Rooney](http://www.sussex.ac.uk/profiles/252374) \n",
    "### Astronomy Centre, Maths and Physical Sciences"
<<<<<<< HEAD
   ]
  },
  {
   "cell_type": "markdown",
   "metadata": {
    "slideshow": {
     "slide_type": "subslide"
    }
   },
   "source": [
    "### People from different fields will have different levels of:\n",
    "* expertise\n",
    "* terminology\n",
    "* philosophy \n",
    "\n",
    "### to Machine Learning and Data Analysis. \n",
    "\n"
   ]
  },
  {
   "cell_type": "markdown",
   "metadata": {
    "slideshow": {
     "slide_type": "notes"
    }
   },
   "source": [
    "Since this our first proper meeting, it seemed appropriate to kick off with a more general talk to introduce some topics, and how we think they fit in with the Machine learning community."
   ]
  },
  {
   "cell_type": "markdown",
   "metadata": {
    "slideshow": {
     "slide_type": "subslide"
    }
   },
   "source": [
    "## As Astronomers, we don't get to repeat expermients..  \n",
    "   ### We can only observe! \n",
    "   ### Observing is expensive!  \n",
    "\n",
    "<img src=\"https://science.nrao.edu/facilities/alma/images/alma_ant315.png\" />"
   ]
  },
  {
   "cell_type": "markdown",
   "metadata": {
    "slideshow": {
     "slide_type": "notes"
    }
   },
   "source": [
    "There is only one Universe, and we can only observe the sky, all be it at different wavelengths!\n",
    "Data is also expensive. Sending telescopes to space isn't cheap, neither is running ground based facilities like ALMA or JCMT.\n",
    "so we use a variety of statistical techniques to squueze as much information from the data as possible"
=======
>>>>>>> master
   ]
  },
  {
   "cell_type": "markdown",
   "metadata": {
    "slideshow": {
     "slide_type": "subslide"
    }
   },
   "source": [
<<<<<<< HEAD
    "## Bayesian Probability\n",
    "\n",
    "\n",
    "P( A | B ) = ( P( B | A ) * P(A))/P(B)\n",
    "\n",
    "posterior = (likelihood\\*prior)/marginal_likelihood"
=======
    "### People from different fields will have different levels of:\n",
    "* expertise\n",
    "* terminology\n",
    "* philosophy \n",
    "\n",
    "### to Machine Learning and Data Analysis. \n",
    "\n"
>>>>>>> master
   ]
  },
  {
   "cell_type": "markdown",
   "metadata": {
    "slideshow": {
     "slide_type": "notes"
    }
   },
   "source": [
<<<<<<< HEAD
    "### Medical Example\n",
    "\n",
    "Blood test detects vampirism 95% of the time. It makes mistakes 1% of the time\n",
    "\n",
    "Suppose vampires Make up 0.1% of the population\n",
    "\n",
    "What is the probability that a positive case is a vampire?\n",
    "\n",
    "P(vampire | positive) = (P( positive | vampire )\\*P(vampire))/P(positive)\n",
    "[ Where P(positive) = P( positive | vampire )\\*P(vampire) + P(vampire | positive)\\*P(positive) ]\n",
    "\n",
    "P(vampire | positive) = 8.7 %"
=======
    "Since this our first proper meeting, it seemed appropriate to kick off with a more general talk to introduce some topics, and how we think they fit in with the Machine learning community."
>>>>>>> master
   ]
  },
  {
   "cell_type": "markdown",
   "metadata": {
    "slideshow": {
     "slide_type": "subslide"
    }
   },
   "source": [
<<<<<<< HEAD
    "### Saturn Example\n",
    "\n",
    "\n",
    "<img src=\"https://astronomy.sussex.ac.uk/~pr83/saturn.png\" />"
=======
    "## As Astronomers, we don't get to repeat expermients..  \n",
    "   ### We can only observe! \n",
    "   ### Observing is expensive!  \n",
    "\n",
    "<img src=\"https://science.nrao.edu/facilities/alma/images/alma_ant315.png\" />"
>>>>>>> master
   ]
  },
  {
   "cell_type": "markdown",
   "metadata": {
    "slideshow": {
     "slide_type": "notes"
    }
   },
   "source": [
    "There is only one Universe, and we can only observe the sky, all be it at different wavelengths!\n",
    "Data is also expensive. Sending telescopes to space isn't cheap, neither is running ground based facilities like ALMA or JCMT.\n",
    "so we use a variety of statistical techniques to squueze as much information from the data as possible"
   ]
  },
  {
   "cell_type": "markdown",
   "metadata": {
    "slideshow": {
     "slide_type": "slide"
    }
   },
   "source": [
<<<<<<< HEAD
    "## Probabilistic Programming\n",
    "> [\"Define probability models and then “solve” these models automatically\"](http://radar.oreilly.com/2013/04/probabilistic-programming.html) \n",
    "\n",
    "### Analogy: Computer programming! \n",
    "\n",
    "> High level languages frees developer from complexities of processor and memory architecture, e.g. Python, Matlab \n",
    "\n",
    "-----\n",
    "> Probabilitic Programming languages free developers from complexities of high-performance probabilistic inference (e.g. MCMC, EM, Variational Bayes)\n",
    "\n",
=======
    "## Bayesian Probability\n",
    "\n",
    "P( A | B ) = ( P( B | A ) * P(A))/P(B)\n",
    "\n",
    "posterior = (likelihood\\*prior)/marginal_likelihood"
   ]
  },
  {
   "cell_type": "markdown",
   "metadata": {
    "slideshow": {
     "slide_type": "subslide"
    }
   },
   "source": [
    "### Medical Example\n",
    "Blood test detects vampirism 95% of the time. \n",
    "\n",
    "It makes mistakes 1% of the time\n",
    "\n",
    "Suppose vampires Make up 0.1% of the population\n",
    "\n",
    "What is the probability that a positive case is a vampire?\n",
    "\n",
    "P(vampire | positive) = (P( positive | vampire )*P(vampire))/P(positive) \n",
    "\n",
    "[ Where P(positive) = P( positive | vampire )*P(vampire) + P(vampire | positive)*P(positive) ]\n",
    "P(vampire | positive) = 8.7 %\n",
>>>>>>> master
    "\n"
   ]
  },
  {
   "cell_type": "markdown",
   "metadata": {
    "slideshow": {
<<<<<<< HEAD
     "slide_type": "subslide"
    }
   },
   "source": [
    "<img src=\"http://s.radar.oreilly.com/files/2013/04/PP-Figure.002.png\" />"
=======
     "slide_type": "slide"
    }
   },
   "source": [
    "## Probabilistic Programming\n",
    "> [\"Define probability models and then “solve” these models automatically\"](http://radar.oreilly.com/2013/04/probabilistic-programming.html) \n",
    "\n",
    "### Analogy: Computer programming! \n",
    "\n",
    "> High level languages frees developer from complexities of processor and memory architecture, e.g. Python, Matlab \n",
    "\n",
    "-----\n",
    "> Probabilitic Programming languages free developers from complexities of high-performance probabilistic inference (e.g. MCMC, EM, Variational Bayes)\n",
    "\n",
    "\n"
>>>>>>> master
   ]
  },
  {
   "cell_type": "markdown",
   "metadata": {
    "slideshow": {
<<<<<<< HEAD
     "slide_type": "notes"
    }
   },
   "source": [
    "In a simulation, we create a model that represents some sort of physical system. For example, in Astronomy, we have Nbody simulations of the Universe or individual galaxies. Start with some number of particles, each with some mass, define some rules for how they interact with each other, run simulation, get out a snapshot of a galaxy.. \n",
    "\n",
    "### Simulations only run one way.. \n",
    "from causes to hypothesized effects.. other example might be climate model\n",
    "\n",
    "### Inference goes the other way.. \n",
    "we learn what the plausible causes are that could have given us our observed data\n",
    "\n"
=======
     "slide_type": "subslide"
    }
   },
   "source": [
    "<img src=\"http://s.radar.oreilly.com/files/2013/04/PP-Figure.002.png\" />"
>>>>>>> master
   ]
  },
  {
   "cell_type": "markdown",
   "metadata": {
    "slideshow": {
<<<<<<< HEAD
     "slide_type": "subslide"
    }
   },
   "source": [
    "## Why is this Important?\n",
    "\n",
    "* Allows us to separate out *modelling* and *inference*\n",
    "* Can create more flexible, and complex models\n",
    "* Can deal with more complex data\n",
    "* No longer have to rely on *Blackbox* like approaches \n",
    "\n",
    "\n",
    "### Neuro example of black box problems"
   ]
  },
  {
   "cell_type": "markdown",
   "metadata": {
    "slideshow": {
     "slide_type": "subslide"
    }
   },
   "source": [
    "### Probabilisitic Programming Languages:\n",
    "Some examples..\n",
    "1. [PyMC](https://github.com/pymc-devs/pymc) python module that implements a suite of MCMC algorithms as python classes, is extremely flexible and applicable to a large suite of problems. PyMC includes methods for summarizing output, plotting, goodness-of-fit and convergence diagnostics.\n",
    "2. [Infer.NET](http://research.microsoft.com/en-us/um/cambridge/projects/infernet/) is a software library developed by Microsoft for expressing graphical models and implementing Bayesian inference using a variety of algorithms.\n",
    "3. [Venture](http://probcomp.csail.mit.edu/venture/) is an interactive, Turing-complete, higher-order probabilistic programming platform that aims to be sufficiently expressive, extensible and efficient for general-purpose use. Its virtual machine supports multiple scalable, reprogrammable inference strategies, plus two front-end languages: VenChurch and VentureScript.\n",
    "4. [Stan](http://mc-stan.org/) exposes a language for defining probability density functions for probabilistic models. Stan includes a compiler, which produces C++ code that performs Bayesian inference via a method similar to Hamiltonian Monte Carlo sampling."
=======
     "slide_type": "notes"
    }
   },
   "source": [
    "In a simulation, we create a model that represents some sort of physical system. For example, in Astronomy, we have Nbody simulations of the Universe or individual galaxies. Start with some number of particles, each with some mass, define some rules for how they interact with each other, run simulation, get out a snapshot of a galaxy.. \n",
    "\n",
    "### Simulations only run one way.. \n",
    "from causes to hypothesized effects.. other example might be climate model\n",
    "\n",
    "### Inference goes the other way.. \n",
    "we learn what the plausible causes are that could have given us our observed data\n",
    "\n"
   ]
  },
  {
   "cell_type": "markdown",
   "metadata": {
    "slideshow": {
     "slide_type": "subslide"
    }
   },
   "source": [
    "### Probabilisitic Programming Languages:\n",
    "Some examples..\n",
    "1. [PyMC](https://github.com/pymc-devs/pymc) python module that implements a suite of MCMC algorithms as python classes, is extremely flexible and applicable to a large suite of problems. PyMC includes methods for summarizing output, plotting, goodness-of-fit and convergence diagnostics.\n",
    "2. [Infer.NET](http://research.microsoft.com/en-us/um/cambridge/projects/infernet/) is a software library developed by Microsoft for expressing graphical models and implementing Bayesian inference using a variety of algorithms.\n",
    "3. [Venture](http://probcomp.csail.mit.edu/venture/) is an interactive, Turing-complete, higher-order probabilistic programming platform that aims to be sufficiently expressive, extensible and efficient for general-purpose use. Its virtual machine supports multiple scalable, reprogrammable inference strategies, plus two front-end languages: VenChurch and VentureScript.\n",
    "4. [Stan](http://mc-stan.org/) exposes a language for defining probability density functions for probabilistic models. Stan includes a compiler, which produces C++ code that performs Bayesian inference via a method similar to Hamiltonian Monte Carlo sampling."
   ]
  },
  {
   "cell_type": "markdown",
   "metadata": {
    "slideshow": {
     "slide_type": "subslide"
    }
   },
   "source": [
    "## Why is this Important?\n",
    "\n",
    "* Allows us to separate out *modelling* and *inference*\n",
    "* Can create more flexible, and complex models\n",
    "* Can deal with more complex data\n",
    "* No longer have to rely on *Blackbox* like approaches \n",
    "\n"
   ]
  },
  {
   "cell_type": "markdown",
   "metadata": {
    "slideshow": {
     "slide_type": "subslide"
    }
   },
   "source": [
    "## [Cluster failure: Why fMRI inferences for spatial extent have inflated false-positive rates](http://www.pnas.org/content/113/28/7900.full)\n",
    "### Anders Eklunda, Thomas E. Nicholsd, and Hans Knutssona\n",
    "\n",
    "1. People typically use software like SPM, FSL, AFNI for fMRI analysis\n",
    "2. Gaussian Random Field Theory used to decide whether clusters of voxels are significantly activated\n",
    "3. Assumption about specific correlation function for voxels often inappropriate for different regions of the brain\n",
    "\n",
    "## leads to to $p$ values being reported of 0.01 when actually 0.5"
>>>>>>> master
   ]
  },
  {
   "cell_type": "markdown",
   "metadata": {
    "slideshow": {
     "slide_type": "slide"
    }
   },
   "source": [
    "## Building probabilitic models\n",
    "\n",
    "The key to building probabilisitic models is to model dependencies as structure!\n"
   ]
  },
  {
   "cell_type": "markdown",
   "metadata": {
    "slideshow": {
     "slide_type": "subslide"
    }
   },
   "source": [
    ">One morning Tracey leaves her house and realises that her grass is wet. Is it due to overnight rain or did she forget to turn off the sprinkler last night? Next she notices that the grass of her neighbour, Jack, is also wet. This explains away to some extent the possibility that her sprinkler was left on, and she concludes therefore that it has probably been raining."
   ]
  },
  {
   "cell_type": "markdown",
   "metadata": {
    "slideshow": {
     "slide_type": "fragment"
    }
   },
   "source": [
    "- $R \\in {0, 1}$, $R = 1$ means that it has been raining, and 0 otherwise\n",
    "- $S \\in {0, 1}$, $S = 1$ means that Tracey has forgotten to turn off the sprinkler, 0 otherwise\n",
    "- $J \\in {0, 1}$, $J = 1$ means that Jack’s grass is wet, and 0 otherwise\n",
    "- $T \\in {0, 1}$, $T = 1$ means that Tracey’s Grass is wet, and 0 otherwise\n"
   ]
  },
  {
   "cell_type": "markdown",
   "metadata": {
    "slideshow": {
     "slide_type": "fragment"
    }
   },
   "source": [
    "We want to model $p(T,J,R,S)$, i.e. Tracy's world. \n",
    "Naïvely that requires $2^4=16$ states e.g. $p(T = 1,J = 0,R = 0,S = 1) = 0.057$ etc.\n",
    "\n",
    "### However, we can use our prior knowledge to help constrain the model"
   ]
  },
  {
   "cell_type": "markdown",
   "metadata": {
    "slideshow": {
     "slide_type": "subslide"
    }
   },
   "source": [
    "* $p(T |J, R, S) = p(T |R, S)$ \n",
    "    - The probability that Tracey's grass is wet only depends on whether it has been raining or the sprinkler\n"
   ]
  },
  {
   "cell_type": "markdown",
   "metadata": {
    "slideshow": {
     "slide_type": "fragment"
    }
   },
   "source": [
    "* $p(J|R, S) = p(J|R)$\n",
    "    - The probability that Jack's grass is wet only depends on whether it has been raining"
   ]
  },
  {
   "cell_type": "markdown",
   "metadata": {
    "slideshow": {
     "slide_type": "fragment"
<<<<<<< HEAD
    }
   },
   "source": [
    "* $p(R|S) = p(R)$ \n",
    "    - The probabiity it has been raining does not depend on the sprinkler"
   ]
  },
  {
   "cell_type": "markdown",
   "metadata": {
    "slideshow": {
     "slide_type": "fragment"
    }
   },
   "source": [
    "### Combining all of this conditional independence information...\n",
    " \n",
    "* $p(T,J,R,S) = p(T|R,S)p(J|R)p(R)p(S)$"
   ]
  },
  {
   "cell_type": "markdown",
   "metadata": {
    "slideshow": {
     "slide_type": "subslide"
    }
   },
   "source": [
    "There is a far more intuitive way to visualise these conditional dependecies using..\n",
    "## Probabilistic Graphical Models"
   ]
  },
  {
   "cell_type": "code",
   "execution_count": 7,
   "metadata": {
    "collapsed": false,
    "slideshow": {
     "slide_type": "fragment"
    }
   },
   "outputs": [
    {
     "data": {
      "text/plain": [
       "<matplotlib.axes._axes.Axes at 0x10c403150>"
      ]
     },
     "execution_count": 7,
     "metadata": {},
     "output_type": "execute_result"
    },
    {
     "data": {
      "image/png": "iVBORw0KGgoAAAANSUhEUgAAALgAAAC4CAYAAABQMybHAAAABHNCSVQICAgIfAhkiAAAAAlwSFlz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\nAElFTkSuQmCC\n",
      "text/plain": [
       "<matplotlib.figure.Figure at 0x10c45c690>"
      ]
     },
     "metadata": {},
     "output_type": "display_data"
    }
   ],
   "source": [
    "from matplotlib import rc\n",
    "%matplotlib inline\n",
    "rc(\"font\", family=\"serif\", size=12)\n",
    "rc(\"text\", usetex=True)\n",
    "import daft\n",
    "\n",
    "#Set up plot space\n",
    "pgm = daft.PGM([3, 3], origin=[0, 0])\n",
    "\n",
    "#Add nodes\n",
    "pgm.add_node(daft.Node(\"T\", r\"$T$\", 1,1))\n",
    "pgm.add_node(daft.Node(\"J\", r\"$J$\", 2,1))\n",
    "pgm.add_node(daft.Node(\"R\", r\"$R$\", 2.5,2))\n",
    "pgm.add_node(daft.Node(\"S\", r\"$S$\", 1.5,2))\n",
    "\n",
    "pgm.add_edge(\"R\", \"T\")\n",
    "pgm.add_edge(\"R\", \"J\")\n",
    "pgm.add_edge(\"S\", \"T\")\n",
    "pgm.render()"
   ]
  },
  {
   "cell_type": "markdown",
   "metadata": {
    "slideshow": {
     "slide_type": "subslide"
    }
   },
   "source": [
    "\n",
    "### No single agreed notation but:\n",
    "\n",
    "Always: \n",
    "\n",
    "- Nodes represent variables and graph structure represent dependencies\n",
    "\n",
    "Almost Always: \n",
    "\n",
    "- Plates indicate replication\n",
    "\n",
    "Optional Distinctions: \n",
    "\n",
    "- Continuous vs Discrete\n",
    "- Observed vs Hidden \n",
    "- Stocastic vs Deterministic\n",
    "- Observed Variables vs Known Property of Experimental Design"
   ]
  },
  {
   "cell_type": "markdown",
   "metadata": {},
   "source": [
    "### Binary process"
=======
    }
   },
   "source": [
    "* $p(R|S) = p(R)$ \n",
    "    - The probabiity it has been raining does not depend on the sprinkler"
>>>>>>> master
   ]
  },
  {
   "cell_type": "markdown",
   "metadata": {
    "slideshow": {
     "slide_type": "fragment"
    }
   },
   "source": [
    "### Combining all of this conditional independence information...\n",
    " \n",
    "* $p(T,J,R,S) = p(T|R,S)p(J|R)p(R)p(S)$"
   ]
  },
  {
   "cell_type": "markdown",
   "metadata": {
    "slideshow": {
     "slide_type": "subslide"
    }
   },
   "source": [
<<<<<<< HEAD
    "## Single Variable\n",
    "\n",
    "<img src=\"https://astronomy.sussex.ac.uk/~pr83/onevar.png\" />\n",
    "\n"
=======
    "There is a far more intuitive way to visualise these conditional dependecies using..\n",
    "## Probabilistic Graphical Models"
>>>>>>> master
   ]
  },
  {
   "cell_type": "code",
<<<<<<< HEAD
   "execution_count": 4,
=======
   "execution_count": 7,
>>>>>>> master
   "metadata": {
    "collapsed": false,
    "slideshow": {
     "slide_type": "fragment"
    }
   },
   "outputs": [
    {
<<<<<<< HEAD
     "name": "stderr",
     "output_type": "stream",
     "text": [
      "/usr/local/lib/python2.7/site-packages/IPython/html.py:14: ShimWarning: The `IPython.html` package has been deprecated. You should import from `notebook` instead. `IPython.html.widgets` has moved to `ipywidgets`.\n",
      "  \"`IPython.html.widgets` has moved to `ipywidgets`.\", ShimWarning)\n",
      "/usr/local/lib/python2.7/site-packages/IPython/kernel/__init__.py:13: ShimWarning: The `IPython.kernel` package has been deprecated. You should import from ipykernel or jupyter_client instead.\n",
      "  \"You should import from ipykernel or jupyter_client instead.\", ShimWarning)\n"
     ]
    },
    {
     "data": {
      "text/plain": [
       "Inference for Stan model: anon_model_08f3dae424b59a035b3b9af363c1083c.\n",
       "4 chains, each with iter=10000; warmup=5000; thin=1; \n",
       "post-warmup draws per chain=5000, total post-warmup draws=20000.\n",
       "\n",
       "        mean se_mean     sd   2.5%    25%    50%    75%  97.5%  n_eff   Rhat\n",
       "theta   0.45  1.6e-3    0.1   0.26   0.38   0.45   0.53   0.66 4229.0    1.0\n",
       "lp__  -15.66    0.01   0.71 -17.69 -15.81 -15.39 -15.21 -15.16 4438.0    1.0\n",
       "\n",
       "Samples were drawn using NUTS(diag_e) at Mon Jul 18 11:04:16 2016.\n",
       "For each parameter, n_eff is a crude measure of effective sample size,\n",
       "and Rhat is the potential scale reduction factor on split chains (at \n",
       "convergence, Rhat=1)."
      ]
     },
     "execution_count": 4,
     "metadata": {},
     "output_type": "execute_result"
=======
     "data": {
      "text/plain": [
       "<matplotlib.axes._axes.Axes at 0x10c403150>"
      ]
     },
     "execution_count": 7,
     "metadata": {},
     "output_type": "execute_result"
    },
    {
     "data": {
      "image/png": "iVBORw0KGgoAAAANSUhEUgAAALgAAAC4CAYAAABQMybHAAAABHNCSVQICAgIfAhkiAAAAAlwSFlz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\nAElFTkSuQmCC\n",
      "text/plain": [
       "<matplotlib.figure.Figure at 0x10c45c690>"
      ]
     },
     "metadata": {},
     "output_type": "display_data"
>>>>>>> master
    }
   ],
   "source": [
    "from matplotlib import rc\n",
    "%matplotlib inline\n",
    "rc(\"font\", family=\"serif\", size=12)\n",
    "rc(\"text\", usetex=True)\n",
    "import daft\n",
    "\n",
    "#Set up plot space\n",
    "pgm = daft.PGM([3, 3], origin=[0, 0])\n",
    "\n",
<<<<<<< HEAD
    "one_var_model = \"\"\"\n",
=======
    "#Add nodes\n",
    "pgm.add_node(daft.Node(\"T\", r\"$T$\", 1,1))\n",
    "pgm.add_node(daft.Node(\"J\", r\"$J$\", 2,1))\n",
    "pgm.add_node(daft.Node(\"R\", r\"$R$\", 2.5,2))\n",
    "pgm.add_node(daft.Node(\"S\", r\"$S$\", 1.5,2))\n",
>>>>>>> master
    "\n",
    "pgm.add_edge(\"R\", \"T\")\n",
    "pgm.add_edge(\"R\", \"J\")\n",
    "pgm.add_edge(\"S\", \"T\")\n",
    "pgm.render()"
   ]
  },
  {
   "cell_type": "markdown",
   "metadata": {
    "slideshow": {
     "slide_type": "subslide"
    }
   },
   "source": [
    "\n",
<<<<<<< HEAD
    "k = 9\n",
    "n = 20\n",
    "\n",
    "#k = 407\n",
    "#n = 800\n",
    "\n",
    "input_data = {'k':k, 'n':n}\n",
    "\n",
    "fit_onevar = pystan.stan(model_code=one_var_model, data=input_data, iter=10000, chains=4)\n",
    "\n",
    "\n",
    "fit_onevar\n",
    "\n"
   ]
  },
  {
   "cell_type": "code",
   "execution_count": 7,
   "metadata": {
    "collapsed": false,
    "scrolled": true
   },
   "outputs": [
    {
     "data": {
      "image/png": "iVBORw0KGgoAAAANSUhEUgAAAZUAAAEYCAYAAACUdWs9AAAABHNCSVQICAgIfAhkiAAAAAlwSFlz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\naxzAAAAAAElFTkSuQmCC\n",
      "text/plain": [
       "<matplotlib.figure.Figure at 0x10c63e110>"
      ]
     },
     "metadata": {},
     "output_type": "display_data"
    }
   ],
   "source": [
    "\n",
    "from __future__ import unicode_literals\n",
    "\n",
    "import matplotlib as mpl\n",
    "mpl.rcParams['text.usetex']=True\n",
    "mpl.rcParams['text.latex.unicode']=True\n",
    "\n",
    "import csv\n",
    "import numpy as np\n",
    "import matplotlib.pyplot as plt\n",
    "from matplotlib.ticker import ScalarFormatter\n",
    "\n",
    "samples=fit_onevar.extract(permuted=False, inc_warmup=False)\n",
    "samples=samples[:,:,0].reshape(samples.shape[0]*samples.shape[1])\n",
    "\n",
    "fig = plt.figure()\n",
    "ax1 = fig.add_subplot(1,1,1)\n",
    "\n",
    "ax1.hist(samples, 30, color='#A3C2FF')\n",
    "ax1.set_axis_bgcolor('#F1F2F2')\n",
    "ax1.tick_params(axis=\"y\", labelcolor=\"b\")\n",
    "ax1.spines['right'].set_visible(False)\n",
    "ax1.spines['top'].set_visible(False)\n",
    "ax1.tick_params(axis='x', colors='#414042', labelcolor='#414042')\n",
    "ax1.tick_params(axis='y', colors='#414042',labelcolor='#414042')\n",
    "ax1.yaxis.label.set_color('#414042')\n",
    "ax1.xaxis.label.set_color('#414042')\n",
    "# Only show ticks on the left and bottom spines\n",
    "ax1.yaxis.set_ticks_position('left')\n",
    "ax1.xaxis.set_ticks_position('bottom')\n",
    "ax1.axhline(color='#414042', linewidth=2)\n",
    "\n",
    "plt.ylabel('Number of Bins)', color='#414042')\n",
    "ax1.spines['top'].set_color('red')\n",
    "\n",
    "plt.ylabel('Number of Trials', fontsize=20)\n",
    "plt.xlabel('Theta', fontsize=20)\n",
    "\n",
    "plt.show()"
=======
    "### No single agreed notation but:\n",
    "\n",
    "Always: \n",
    "\n",
    "- Nodes represent variables and graph structure represent dependencies\n",
    "\n",
    "Almost Always: \n",
    "\n",
    "- Plates indicate replication\n",
    "\n",
    "Optional Distinctions: \n",
    "\n",
    "- Continuous vs Discrete\n",
    "- Observed vs Hidden \n",
    "- Stocastic vs Deterministic\n",
    "- Observed Variables vs Known Property of Experimental Design"
>>>>>>> master
   ]
  },
  {
   "cell_type": "markdown",
   "metadata": {
    "slideshow": {
     "slide_type": "slide"
    }
   },
   "source": [
<<<<<<< HEAD
    "\n",
    "## Schools "
=======
    "# <img src=\"https://github.com/stan-dev/logos/blob/master/pystan_logo_name.png?raw=true\" width=\"60\" height=\"60\" align=\"left\"/>   Examples\n",
    "-----------------\n",
    "\n",
    "-----------------\n",
    "\n",
    "> [Thousands of users rely on Stan for statistical modeling, data analysis, and prediction in the social, biological, and physical sciences, engineering, and business.](http://mc-stan.org/)\n",
    "\n",
    "Users specify log density functions in Stan’s probabilistic programming language and get:\n",
    "\n",
    "* full Bayesian statistical inference with MCMC sampling (NUTS, HMC)\n",
    "\n",
    "* approximate Bayesian inference with variational inference (ADVI)\n",
    "\n",
    "* penalized maximum likelihood estimation with optimization (L-BFGS)\n",
    "\n",
    "Stan’s math library provides differentiable probability functions & linear algebra (C++ autodiff). Additional R packages provide expression-based linear modeling, posterior visualization, and leave-one-out cross-validation.\n",
    "\n"
>>>>>>> master
   ]
  },
  {
   "cell_type": "markdown",
   "metadata": {
    "slideshow": {
     "slide_type": "notes"
    }
   },
   "source": [
<<<<<<< HEAD
    "## Pearson Product Moment Correlation ##"
=======
    "MCMC sampling provides a way of fully mapping out the posterior probabiity distribution function of your model. Randomly walk around probability space, with different techniques providing more efficient ways of walking..\n",
    "\n",
    "If posterior is complicated, an inefficient walk will waste a lot of time in parameter space that is unlikely.. HMC is one of the more efficent techniques, based on the Hamiltonian equation in physics.. uses gradient information"
>>>>>>> master
   ]
  },
  {
   "cell_type": "markdown",
   "metadata": {
    "slideshow": {
<<<<<<< HEAD
     "slide_type": "subslide"
    }
   },
   "source": [
    "<img src=\"https://astronomy.sussex.ac.uk/~pr83/pearson_corr.png\" />\n",
    "\n"
=======
     "slide_type": "slide"
    }
   },
   "source": [
    "## Regression"
>>>>>>> master
   ]
  },
  {
   "cell_type": "code",
<<<<<<< HEAD
   "execution_count": 38,
=======
   "execution_count": 125,
>>>>>>> master
   "metadata": {
    "collapsed": false,
    "slideshow": {
     "slide_type": "subslide"
    }
   },
   "outputs": [
    {
     "data": {
      "text/plain": [
<<<<<<< HEAD
       "Inference for Stan model: anon_model_cbdffd142e6b5f7643dd9a16a8322d7b.\n",
       "4 chains, each with iter=10000; warmup=5000; thin=1; \n",
       "post-warmup draws per chain=5000, total post-warmup draws=20000.\n",
       "\n",
       "            mean se_mean     sd   2.5%    25%    50%    75%  97.5%  n_eff   Rhat\n",
       "mu[0]       0.91  1.1e-3   0.07   0.77   0.86   0.91   0.96   1.05 4052.0    1.0\n",
       "mu[1]      99.64    0.03   1.76   96.1  98.51  99.67 100.81 103.06 4042.0    1.0\n",
       "lambda[0]   9.87    0.05   2.98   4.94   7.73    9.6  11.69   16.5 4237.0    1.0\n",
       "lambda[1]   0.02  7.6e-5 5.0e-3 8.2e-3   0.01   0.02   0.02   0.03 4315.0    1.0\n",
       "r          -0.76  1.5e-3    0.1   -0.9  -0.83  -0.78  -0.71  -0.53 3949.0    1.0\n",
       "sigma[0]    0.33  8.4e-4   0.05   0.25   0.29   0.32   0.36   0.45 3889.0    1.0\n",
       "sigma[1]    8.02    0.02   1.28    6.0   7.12   7.86   8.74  11.02 3946.0    1.0\n",
       "T[0,0]      0.11  6.0e-4   0.04   0.06   0.09    0.1   0.13    0.2 3799.0    1.0\n",
       "T[1,0]     -2.08    0.01    0.8  -4.07  -2.47  -1.93  -1.52  -0.98 3388.0    1.0\n",
       "T[0,1]     -2.08    0.01    0.8  -4.07  -2.47  -1.93  -1.52  -0.98 3388.0    1.0\n",
       "T[1,1]     65.98    0.36  22.24  35.96   50.7  61.78  76.42 121.43 3836.0    1.0\n",
       "lp__      -39.12    0.03   1.69 -43.29 -40.01 -38.75 -37.88 -36.89 3668.0    1.0\n",
       "\n",
       "Samples were drawn using NUTS(diag_e) at Mon Jul 18 11:49:57 2016.\n",
       "For each parameter, n_eff is a crude measure of effective sample size,\n",
       "and Rhat is the potential scale reduction factor on split chains (at \n",
       "convergence, Rhat=1)."
      ]
     },
     "execution_count": 38,
     "metadata": {},
     "output_type": "execute_result"
=======
       "<matplotlib.axes._axes.Axes at 0x11838df10>"
      ]
     },
     "execution_count": 125,
     "metadata": {},
     "output_type": "execute_result"
    },
    {
     "data": {
      "image/png": "iVBORw0KGgoAAAANSUhEUgAAALgAAAC4CAYAAABQMybHAAAABHNCSVQICAgIfAhkiAAAAAlwSFlz\nAAALEgAACxIB0t1+/AAAFHdJREFUeJztnX28VVWZx7/73BtxwSt4r43Qc0sBYWczDm+TkzXlC1jN\npxmyQTBzcrQAsawcC8t0ykwLrbCmNAlGpsk+pKjTC9k0YGovkw6SiE22IV7M+4Q4I4LIhZR79vyx\n9oHT5XLvPufsfe65i+f7z+Ww915r7X1+59nPetaz1griOMYwfKUw0A0wjDwxgRteYwI3vMYEbniN\nCdzwGhO44TUmcMNrTOCG15jADa8xgRteYwI3vMYEbniNCdzwGhO44TUmcMNrTOCG15jADa8xgRte\nYwI3vMYEbniNCdzwGhO44TUmcMNrTOCG15jADa8xgRteYwI3vMYEbniNCdzwGhO44TUmcMNrTOCG\n15jADa8xgRteYwI3vMYEbniNCdzwGhO44TUmcMNrTOCG15jADa8xgRteYwI3vMYEbniNCdzwGhO4\n4TUmcMNrmge6AQOBiAwDTgKOAmJgBxCp6ksD2rAMEZHjgLHAUOBFQIEnVTXOqb4W3DNtxT3TncBv\nVPXFPOpLSxDHudxvwyEik4B5wJtxX/wG4HkgAF4BvAr4FfCfwNdV9akBampViEgz8DfAe4BTgOG4\ne9wHDAFOSP4+AqwAlqtqV411/hlwMXAacCKwEdiVHD4WOB74NbAK90y31lJfNXgvcBE5Hfgs0AF8\nHbgX+FVPyyIircBk4BzgfOBB4ApV/W1dG1whItIEXAp8FHgSWAL8FNjS01qLyGjgVOBC4A3JuZ+p\nVOgi8gZgITAuKWMl8Liq/qHHecOBScBM4ALgF8ACVf1NZXdZPd4KXESOAj4HvBO4HLhHVfdXcO18\n4OPAtcBXVbWYV1urRURC4DbgJeAyVV1XwbUnANfjrP1FqvqzFNe0ANcB78b9oO5M69YlbuFc4J+A\nG4BFqtqdtr3V4qXARWQU8CNgPfAhVX2uynLGA98Afg+c39NCDSQiMh1YDnwauKXaH6CInA18DfiU\nqn69j/OOBf4D2Ay8X1X/r8r6xgDLgN3AbFXdW005afFO4CLyCuAnuC//M7V2qkTk5UlZBeCctG+B\nPBGRM4FvAzNV9acZlHcisBr4bG8iF5FjgPtxAr8yg2f6MpzhaANm5NkR9UrgIlLAdWjWqOrHMyx3\nCPB94NEsy62yLa8C1gKzVPXBDMs9Eee7zyp3V0QkwN37ZuDDWUVhkk7x3bjIzoeyKLM3fIuDzweG\nAVdlWWhiYS4ALhSRU7IsuxISsS0BvpyluAGSzvQlwLLEXy7xD4AAH8kyxJi8CS8CZorIaVmV2xNv\nBJ5ECK7FdZgy77yo6nbgw8BtyZtiIHg3Lvx2Qx6Fq+p3gP8GrgYQkXbgRuDCPMYIVHUHzigtTSx6\n5ngjcFwPfUXOIag7cRGL6TnW0SuJ9b4cuDrnfsBVwLzEil8E/FBVH8urMlX9PvAMLoafOV4IPOm0\nXIyLBuRG8oq+GfhAnvUchlOAkbiBqNxIBmN+AZyHc1luybO+hNyeqS9D9acCT6vq+v5ODMNwDPAx\nYGwURW/p5dha4IooipYepojlwJdFZLiq7qmx3ZUwG/hGJeHAMAynAWNwqQg7geeA6VEUfb6fS5fh\n4twv4lyWvLkbuFVE2hK3JTO8sODAX+CsTr9EUbQFN1Q9ppfDU4A1fYibRNRPABOraGctpL5HgDAM\nbwVGRFG0NIqie6Io+jEuRaEtxeUPAScDv8grd6WcZHxhHe75Z4ovAp+Ks7yVsLP8QxiGk3Ff/qoU\n167FCa4uJJ3aycAv05wfhuEC4LdRFN3T49BaUtyfqv4eaAK2VNjUWsjlmfrionSQ8stI3JDNwOYw\nDE+Iomhr2f9dCVyRopgtuNBZvWgFUNVnU55/ZRRFh1jqKIq2AltTlvEHoKIclTAMR+AiPG24jvgd\nwIrk7dEfW4DxldSXBl8s+BBcdCMNYxI3ZQvulQ3uVb4LmJKIoD9eTOqsF0OSOvsl8bvX5Nucw7Ik\niqL5URTNBlZFUXRJSnFDTs/UF4Hvw+U9V8ImYFwYhpOiKFpX1sFMQwvOwtWLfcDQJFTYHyPp4X6V\nCMPwzArrTVNfqey5/HGE55gK68rlmfoi8E1AmPLc0pe2GTiLg2KYTjr/G2BCUme9eAHYC7wyxbmr\nOfhmOkAYhmemtabJD6kFNyEkLSNwueYlN7DS55PLM/XFB++3g1LmH8bAfbgvY3rig0/D+d53paxv\nKvCl6ptbGaoai8japF7t69woinaFYTgrDMOFuBDfLiCuwFUA9wPZQ3qjAS6FYG4Yhm24EOwlFVwL\n7t5ur/CafvEi2UpEpuLi02HeYa0kbXQL0F7P6Vgici3QoqoL6lDXhbi0gNcAJ+SdCy8iI4BOYFTW\nYwu+uCi/BPbjpqPlzftwKQH1nmt4O3BBkr6bN3Nxo4vPAG+tQ30XAD/IY+DMC4EnVvsWch5CT6aH\nzac+w9d/hKpuAB7DTanLjWTu6quAH1CfZ1oA3k9Oz9QLgSf8G/DGPFMvcclOm1T1kRzr6IsbgOtF\n5Og8Ck/E9mXgC0lC17eBk0XkbXnUl3AJLoWg5okbveGNwFX1eZx1vS2Z7JopInISLodlbtZlp0VV\n78NFSfrLJamWS3EjmDcnn/8ReDXwrcRPzhQRGYubcvfevPpOXnQyyxGRZbiRv3dllVaa5EU/CNys\nqrlmLKZoywhc3sa1qrosw3LfjEt6eiPOoj6THFqKG4Q5ATg7q7zw5D7uB76lql/Mosze8MaClzEf\nOBq4PUmjrQkR+RNcfPxe4NZay6sVVd2FW6bhNhG5KIsyk6U17gLeBczioLhPVNW5wGVAN7BCRCod\nUOutvjbcpPCfA4tqLa8vvBN4kpk2A3g58HMReW21ZYnIX+Pi5d8HPlaPzLr+EJFrcK7EV4FPisji\nan1yEXmZiFyNm8gxD+f+XAcsVdVAVTcBJFb7HNyI6kMiUnUmZTJhei1uYviH8n6m3rkoJZLRuHm4\nL+xruKUVnk557Wtx/vZpwPsS33fAScT9KeDTqnpN8pr/Am5E9mpc+LLf4e6kM/lW3LP5X9zyGqX4\n+oklYfdyXYCbo3kjbj2Wr6hqnwNPZddOSOp4G3Cxqt6b5rpa8VbgJZIFbj6Be/X+CPghzir/pjR3\nM3nt/jluNHQWboBjCfB5Vd09AM0+hJ7i7nGsNBI7CfgmLiKxFtCShUz6EVOB1+NE+hzuHktu19LE\nHUnTlg5c5uV5wI9xIcVHgCdK/Z4kXn8y7pnOxD3ffwFuVNVec2XywHuBl0is3fm4waCpuFhvDBRx\nrlqEE8WPgO8M9KKR5fQl7h7njQf+Hje9bSpufcJ9wMtw9/oo7h7vwFn965JLD2u1+2lXK07kp+GE\nfDwuxbaUy7KBgznodw/EwklHjMB7kljtvbhR0Nc36sqyacXdy3UBLlnq5bgoyAuqWkwWRjoQIUlr\ntVPWORT3oyoCexrBSByxAgcQkRi3SNCArXXSF9WKu4/yrqJGqz3YyFTgIrIV95oysmOXqo6spYA8\nrXajk3W67PGqmjpJfqBpVAtebrmTv7WUdcRZ7XK8i4MPdrJyS0TkFckP+JC49pGECbyByFDcV3Ho\naOQRiS8zegY9WYj7SPa1D4dZ8AYgI3Gb1e4Fs+ADTK3iNqvdN2bBB5AMxG1Wux/qZsGTmevghohX\nAfOiKDq3XvU3GrWI26x2eupiwZMlG9ZEUXQfMC35+7Gy45PDMJxUj7Y0AjWK26x2BdTFgifLopUW\nhHkk+b+tZccfrUc7GoEackvMaldB3Sx4YsXPIVkeLVnNtWS9B3ymTD2oQdxmtaukXj74PFz+8Sag\nLVkjrzQzfTMuldNrqhF3YrXh4GikCbtC6uWi9DcLfGcYhkdHUfR8PdpTb6oU9xGdQ5IVjRAHbwOe\nTf56J/BKxd3T1wbmmLirZ8AFnqzV/YWBbkceVCHuQ6y2iMzJr4X+M+AC95VKxG0RkvywkcwcqFDc\nFiHJkSPSgifzFUtu0etE5GJVXZxR2deQboKwWe06cCRb8HLfNpOUgQrEbVa7TtTVgieWcz7wHtzy\nAtep6gP1bAMc2DFhPfBXuHXFH6y1zDTiNqtdf+ptwa/GrYx6KjANuDfn5Y774kHcent7qHFXspTi\nNqs9ANTbB1+AWzejRAtuRaaaLWgVrMGJeyiVbyJ7gP7EbVZ7YKm3wHur77g6t6HEWtzCOLtUdXsl\nFybrWu8H3kvf4rbRyAGm3gL/d+CdOMsNbmWpqcns75mq2nPr6TxR3PZ86yq5KFn69xEO7gPZ21qB\nZrUbhHoLfA7O7z0bt5zY9bhtMp4A7hYRyFHoSSf3dNzyylODICgArxGRVbi1qu9W1cf7KWYxMKzs\n82096jCr3UBkvbJVXO3CPyIyGif00lYZmQldRCYHQXBTHMdvDoKA4cOHd48aNap52LBhxHHM888/\nX9y+fXtx3759zUEQvBjH8V3AR1V1W49y/hb3gxzGwb3cz8ZZ9OHkYLVreaZGAwm8rIzMhC4ixxQK\nhfuKxeLkUaNGdb/jHe9omjJlymHPLxaLrFq1ilWrVnXv3r27Cbf35vlJWPEYXLrvMThh/wDncn0T\neImDW4lnarVN4LXRcAIvK+uwQheRptLa3n1cfyGwZOTIkcFll13WNHr06Irqf+yxx1iyZElx//79\nu+M4no6bYncOLq/9AlyI9dsc7E/8WlX/tKJKUmACr42GHclU1W3JopOvxG1HfbeIxCKyAOgSkUUi\n0msfQkQ+ASybPn168w033FCxuAEmTpzIokWLCuPHj28FHsaJewUwjkPFvQ/4XcWVGLnTsBa8l7LL\nLXqMi8D8CphRHuYTkUuAW8477zxOP/30TOpeunRpvGbNmhj4S9wP7h6cyLuAbbj9K5drDjv1mgWv\njYa14D1JOnxh8jHAdfQmA/8jIqcCiMjxwFdnzJiRmbgB5syZE0yYMIEgCB7EiTvG7Uo2DZigqkvz\nELdRO4NG4AnPAB8BHsKFGffiZgL9TEQ+HATB/aNGjYrf/va3Z17xBz/4wUJzc3MLbsOmUao6W1Uf\nboSd14zDM6gErqqxqi5S1VOBkTi/+J9x/u+XgDGXX355Ux51DxkyhDlz5gS4t8YRmWY8GBlUAi9H\nVfeq6ipVvUxVxxQKhd+ddNJJxREjMt9x+gCTJk2itbW1G8htZ14jWwatwMsRkbHFYvHVs2fPzv1+\nzjrrrKYgCGblXY+RDV4IHHhfS0vL/mrCgZUybdo04jgeIiKZx7yN7PFF4G8aPXp0Kt977969bNiw\ngZUrVx74fNddd6WuqLm5maFDh+7HbW5qNDheCLxQKLx23LhxqWLFO3bsoL29nR07dgCwceNGOjo6\nAOjs7CTNztTHHXdcAXhT9S026oUXAgda2tvbU50oImzcuJFJk9xituvWrTvw746ODpKMxj5pbW0t\nBEHQVn1zjXrhi8AJgvSDfRs2bGDChAmAc1GGDh1KZ2dnalelUCiAR8/OZ3yJ5760e/fu1CdPmDCB\np556is7OTkqWP+0bAKCrq4s4jtNXaAwYXlihOI43b9q0KdWI4oYNGwAYP348zz77LGeeeeaBYy0t\nLezbt6/fMp5++un91DhR2agPvgj8vzo7O/tMny1x7LHH0t7ezvr165k4cSJtbc6V7urqYtiwYXR1\ndfVbxp49e5qA79XUaKMu+OKi3L579+4PvPDCCxx11FF9ntjW1nZA1OW0t7dzxhln9FvR2rVriV0K\n5k+qbaxRP7yw4Kr6UKFQeO6ee/Kfs/zd7363OwiCn1iS1eDAC4EDFIvFrzz88MPF/fv351bHtm3b\n2L59e1Mcx5fnVomRKd4IHLi2u7u7a/HixcW8Krjpppu6gyB4VFWPmE2zBjveCFxVu+M4nrF+/frC\n44/3t/JD5axYsYJdu3bFcRxP6/9so1HwRuAAqnp/EAT/evPNN8dbt27NrNwHHniA1atXg9tO5LnM\nCjZyxyuBA3R2dl4E/HDhwoVxFpZ85cqVLF++HOBKVf1GzQUadWXQTDqulI6OjmVxHF948sknF+fP\nn19obq4sIrpz504WLVrUvX379gC4VFW/lk9L+6aRnulgxFuBA4jIGUEQfK+pqWnYKaecUpg5c2a/\ncfJt27Zx5513Fp944okgCILNxWLxDFV9qk5NPoRGe6aDDa8FDm6RIOCThULh0mKx2Nba2rq/o6Oj\nady4cUFrayvFYpEdO3awadOmeNu2bd179+5tLhQKm4vF4jWq+s0GaH/DPdPBhPcCL0dEXg+cHwTB\nG4IgGAsMSQ51FYvFXwM/BW5T1c0D1sgeNPozbXR8GapPhao+hFtywjhC8C6KYhjlmMANrzGBG15j\nAje8xgRueI0J3PAaE7jhNSZww2tM4IbXmMANrzGBG15jAje8xgRueI0J3PAaE7jhNSZww2tM4IbX\nmMANrzGBG15jAje8xgRueI0J3PCaugo8DMO5YRj+NgzDO1KePyYMwzF5t8vwl7oKPIqiJcDiCi45\nB5hcSR1hGC4Iw/CESq4x/KVhF/4Jw3AEcC7w2Uqui6Lo8/m0yBiM1EXgYRjOA+YBm4AAiMuOXZF8\nfh0wMoqitySHZgNjgXPDMHxdFEVX9nO+YRxC7i5KGIZjgVuBM6IoOheYUnZsBPA54NYoimYDY8Mw\n/Ds44M7sAO4oE/dhz0/89WlhGC7M+56MwUM9fPBpwKYoiko7A68uHYiiaBcwFTgxDMMFwDHAYfeA\n7+f8EcBmwDqlxgEGNEyYWOQbcaJdDGzp49zJfZ0fRdE64GKchTcMoD4CX41zJY5OPk8vOzYbGBNF\n0dKkLVN6XLsZaA/DcBrOMvd3/rQoitZZaNEoUZf1wcMwnAPMwgm2DSfyucCjwJ04X3szsBMXGjwr\niqKtYRjOBRYCq6MoOjcRbl/nfw5YE0VR/jvC1glbH7w2jqgF8Acj9kxrw4bqDa8xgRteYwI3vCbr\nkcwnRSQ7p94AeHKgGzCYybSTaRiNhrkohteYwA2vMYEbXmMCN7zGBG54jQnc8BoTuOE1JnDDa0zg\nhteYwA2vMYEbXvP/L4sok9IJHdEAAAAASUVORK5CYII=\n",
      "text/plain": [
       "<matplotlib.figure.Figure at 0x10c480090>"
      ]
     },
     "metadata": {},
     "output_type": "display_data"
>>>>>>> master
    }
   ],
   "source": [
    "from matplotlib import rc\n",
    "%matplotlib inline\n",
    "rc(\"font\", family=\"serif\", size=12)\n",
    "rc(\"text\", usetex=True)\n",
    "import daft\n",
    "\n",
    "#Set up plot space\n",
    "pgm = daft.PGM([3, 3], origin=[0, 0])\n",
    "pgm.add_plate(daft.Plate([0.2, 0.2, 1.5, 1.5], label=r\"data$i$\",\n",
    "    shift=-0.1))\n",
    "pgm.add_node(daft.Node(\"X\", r\"$x_i$\", 0.4,1.3,fixed=True))\n",
    "pgm.add_node(daft.Node(\"Y\", r\"$y_i$\", 1,1,observed=True))\n",
    "pgm.add_node(daft.Node(\"M\", r\"$M$\", 1,2))\n",
    "pgm.add_node(daft.Node(\"C\", r\"$C$\", 2,2))\n",
    "pgm.add_node(daft.Node(\"Sig\", r\"$\\sigma$\", 2.5,2))\n",
    "\n",
    "\n",
    "pgm.add_edge(\"X\", \"Y\")\n",
    "pgm.add_edge(\"M\", \"Y\")\n",
    "pgm.add_edge(\"C\", \"Y\")\n",
    "pgm.add_edge(\"Sig\", \"Y\")\n",
    "pgm.render()"
   ]
  },
  {
   "cell_type": "code",
   "execution_count": 90,
   "metadata": {
    "collapsed": true,
    "slideshow": {
     "slide_type": "skip"
    }
   },
   "outputs": [],
   "source": [
    "#---------------------------------------------\n",
    "# Generate data (same as used in the notebook)\n",
    "\n",
    "np.random.seed(42)\n",
    "theta_true = (25, 0.5)\n",
    "xdata = 100 * np.random.random(20)\n",
    "ydata = theta_true[0] + theta_true[1] * xdata\n",
    "\n",
    "# add scatter to points\n",
    "xdata = np.random.normal(xdata, 10)\n",
    "ydata = np.random.normal(ydata, 10)\n",
    "\n",
    "#----------------------------------------------\n",
    "# Create the Stan model\n",
    "#  this is done by defining a string of Stan code."
   ]
  },
  {
   "cell_type": "code",
   "execution_count": 92,
   "metadata": {
    "collapsed": false,
    "slideshow": {
     "slide_type": "subslide"
    }
   },
   "outputs": [
    {
     "data": {
      "text/plain": [
       "<matplotlib.text.Text at 0x1190ce110>"
      ]
     },
     "execution_count": 92,
     "metadata": {},
     "output_type": "execute_result"
    },
    {
     "data": {
      "image/png": "iVBORw0KGgoAAAANSUhEUgAAAgEAAAFvCAYAAADT8BjWAAAABHNCSVQICAgIfAhkiAAAAAlwSFlz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\nAAAAAElFTkSuQmCC\n",
      "text/plain": [
       "<matplotlib.figure.Figure at 0x121479110>"
      ]
     },
     "metadata": {},
     "output_type": "display_data"
    }
   ],
   "source": [
    "plt.scatter(xdata,ydata)\n",
    "plt.xlabel('X')\n",
    "plt.ylabel('Y')"
   ]
  },
  {
   "cell_type": "code",
   "execution_count": 93,
   "metadata": {
    "collapsed": true,
    "slideshow": {
     "slide_type": "fragment"
    }
   },
   "outputs": [],
   "source": [
    "model=\"\"\"\n",
    "data {\n",
    "  int<lower=0> N;\n",
    "  vector[N] y;\n",
    "  vector[N] x;\n",
    "}\n",
    "parameters {\n",
    "  real alpha;\n",
    "  real beta;\n",
    "  real<lower=0> sigma;\n",
    "}\n",
    "model {\n",
    "  alpha ~ normal(0,10);    \n",
    "  beta ~ normal(0,10);\n",
    "  sigma ~ cauchy(0,5);\n",
    "  for (n in 1:N)\n",
    "    y[n] ~ normal(alpha + beta * x[n], sigma);\n",
    "}\n",
    "\"\"\""
   ]
  },
  {
   "cell_type": "code",
   "execution_count": 94,
   "metadata": {
    "collapsed": true,
    "slideshow": {
     "slide_type": "skip"
    }
   },
   "outputs": [],
   "source": [
    "import pystan\n",
    "sm = pystan.StanModel(model_code=model)\n"
   ]
  },
  {
   "cell_type": "code",
   "execution_count": 95,
   "metadata": {
    "collapsed": true,
    "slideshow": {
     "slide_type": "skip"
    }
   },
   "outputs": [],
   "source": [
    "regress_data={\n",
    "    'N':20,\n",
    "    'y':ydata,\n",
    "    'x':xdata\n",
    "}"
   ]
  },
  {
   "cell_type": "code",
   "execution_count": 105,
   "metadata": {
    "collapsed": true,
    "slideshow": {
     "slide_type": "skip"
    }
   },
   "outputs": [],
   "source": [
    "fit = sm.sampling(data=regress_data,iter=1000, chains=4)"
   ]
  },
  {
   "cell_type": "code",
   "execution_count": 106,
   "metadata": {
    "collapsed": true,
    "slideshow": {
     "slide_type": "skip"
    }
   },
   "outputs": [],
   "source": [
    "samples=fit.extract(permuted=False, inc_warmup=False)"
   ]
  },
  {
   "cell_type": "code",
   "execution_count": 116,
   "metadata": {
    "collapsed": false,
    "slideshow": {
     "slide_type": "subslide"
    }
   },
   "outputs": [
    {
     "data": {
      "image/png": "iVBORw0KGgoAAAANSUhEUgAAAgwAAAFvCAYAAAAmDpNmAAAABHNCSVQICAgIfAhkiAAAAAlwSFlz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\n",
      "text/plain": [
       "<matplotlib.figure.Figure at 0x127073590>"
      ]
     },
     "metadata": {},
     "output_type": "display_data"
    }
   ],
   "source": [
    "x=np.arange(-20,120)\n",
    "lines=np.empty((140,2000))\n",
    "for i in range(0,140):\n",
    "    lines[i,:]=samples[:,:,0].reshape(-1)+samples[:,:,1].reshape(-1)*x[i]\n",
    "plt.scatter(xdata,ydata)\n",
    "plt.xlabel('X')\n",
    "plt.ylabel('Y')\n",
    "for i in range(0,2000):\n",
    "    plt.plot(x,lines[:,i], 'r',alpha=0.1,zorder=-1)"
   ]
  },
  {
   "cell_type": "code",
   "execution_count": 119,
   "metadata": {
    "collapsed": false,
    "slideshow": {
     "slide_type": "subslide"
    }
   },
   "outputs": [
    {
     "name": "stdout",
     "output_type": "stream",
     "text": [
      "[0.011980380560828962, 0.035941141680765294, 0.2755487528801287, 0.94645006423920708]\n"
     ]
    },
    {
     "data": {
      "text/plain": [
       "<seaborn.axisgrid.PairGrid at 0x118060690>"
      ]
     },
     "execution_count": 119,
     "metadata": {},
     "output_type": "execute_result"
    },
    {
     "data": {
      "image/png": "iVBORw0KGgoAAAANSUhEUgAAArcAAAK3CAYAAACfnWd3AAAABHNCSVQICAgIfAhkiAAAAAlwSFlz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\nqGSwuCUiIiKikvF/iLgMUMKpM4YAAAAASUVORK5CYII=\n",
      "text/plain": [
       "<matplotlib.figure.Figure at 0x122483f50>"
      ]
     },
     "metadata": {},
     "output_type": "display_data"
    }
   ],
   "source": [
    "import seaborn as sns\n",
    "sns.set(color_codes=True,font_scale=1.5)\n",
    "import pandas as pd\n",
    "sns.set_style(\"white\")\n",
    "\n",
<<<<<<< HEAD
    "#pearson_data = np.matrix([[.8,102], [1.0,98], [.5,100], [.9,105], [.7,103], [.4,110], [1.2,99], [1.4,87], [.6,113], [1.1,89], [1.3,93]])\n",
    "pearson_data = np.matrix([[.8,102,],[1.0,98,],[.5,100,],[.9,105,],[.7,103,],[.4,110,],[1.2,99,],[1.4,87,],[.6,113,],[1.1,89,],[1.3,93,],[.8,102,],[1.0,98,],[.5,100,],[.9,105,],[.7,103,],[.4,110,],[1.2,99,],[1.4,87,],[.6,113,],[1.1,89,],[1.3,93]])\n",
    "#n = 11\n",
    "n = 22\n",
    "parameters ={\"r\", \"mu\", \"sigma\"}\n",
=======
>>>>>>> master
    "\n",
    "\n",
<<<<<<< HEAD
    "samples_pearson = pystan.stan(model_code=pearson_model, data=data, iter=10000, chains=4)\n",
    "\n",
    "samples_pearson"
=======
    "s1=0\n",
    "s2=1\n",
    "import scipy\n",
    "# Make a 2d normed histogram\n",
    "H,xedges,yedges=np.histogram2d(samples[:,:,[s1]].reshape(samples.shape[0]*samples.shape[1]),samples[:,:,[s2]].reshape(samples.shape[0]*samples.shape[1]),bins=20,normed=True)\n",
    "\n",
    "norm=H.sum() # Find the norm of the sum\n",
    "# Set contour levels\n",
    "contour1=0.99\n",
    "contour2=0.95\n",
    "contour3=0.68\n",
    "\n",
    "# Set target levels as percentage of norm\n",
    "target1 = norm*contour1\n",
    "target2 = norm*contour2\n",
    "target3 = norm*contour3\n",
    "\n",
    "# Take histogram bin membership as proportional to Likelihood\n",
    "# This is true when data comes from a Markovian process\n",
    "def objective(limit, target):\n",
    "    w = np.where(H>limit)\n",
    "    count = H[w]\n",
    "    return count.sum() - target\n",
    "\n",
    "# Find levels by summing histogram to objective\n",
    "level1= scipy.optimize.bisect(objective, H.min(), H.max(), args=(target1,))\n",
    "level2= scipy.optimize.bisect(objective, H.min(), H.max(), args=(target2,))\n",
    "level3= scipy.optimize.bisect(objective, H.min(), H.max(), args=(target3,))\n",
    "\n",
    "# For nice contour shading with seaborn, define top level\n",
    "level4=H.max()\n",
    "levels=[level1,level2,level3,level4]\n",
    "\n",
    "print levels\n",
    "\n",
    "labels=[r'$Intercept$',r'$Slope$']\n",
    "df = pd.DataFrame(samples[:,:,[s1,s2]].reshape(samples.shape[0]*samples.shape[1],2),columns=labels)\n",
    "g = sns.PairGrid(df,size=5)\n",
    "g.map_diag(sns.kdeplot,c='Red')\n",
    "g.map_lower(sns.kdeplot, cmap=\"Reds_d\",alpha=1,n_levels=levels,normed=True,shade=True,zorder=1)"
>>>>>>> master
   ]
  },
  {
   "cell_type": "code",
<<<<<<< HEAD
   "execution_count": 9,
   "metadata": {
    "collapsed": false
=======
   "execution_count": 130,
   "metadata": {
    "collapsed": false,
    "slideshow": {
     "slide_type": "fragment"
    }
>>>>>>> master
   },
   "outputs": [
    {
     "data": {
<<<<<<< HEAD
      "image/png": "iVBORw0KGgoAAAANSUhEUgAAAZUAAAEYCAYAAACUdWs9AAAABHNCSVQICAgIfAhkiAAAAAlwSFlz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\nRFnBVViIVQAAAABJRU5ErkJggg==\n",
      "text/plain": [
       "<matplotlib.figure.Figure at 0x11b37cf90>"
=======
      "text/plain": [
       "<matplotlib.axes._subplots.AxesSubplot at 0x1217c4a10>"
      ]
     },
     "execution_count": 130,
     "metadata": {},
     "output_type": "execute_result"
    },
    {
     "data": {
      "image/png": "iVBORw0KGgoAAAANSUhEUgAAAZAAAAEJCAYAAAC61nFHAAAABHNCSVQICAgIfAhkiAAAAAlwSFlz\nAAALEgAACxIB0t1+/AAAIABJREFUeJzt3Xlw3Od93/H37uJc3CdBggcAHg94iOJtS7YoWRDlS47t\nkS05sadNUkkTp522M6lSOdN2Om3qSLHaTJNJItdOlTrjQ0wkx7ZkWaSoWxQv8abIhyQAHiABkgAB\n7OI+dvsHFhQILrEHjt8en9cMZ7C/3/P7/b5YYn/ffZ7n9zyPKxgMIiIiEiu30wGIiEhyUgIREZG4\nKIGIiEhclEBERCQuSiAiIhIXJRAREYlLRjSFjDFPAo1AHbDLWnso1rLGmCLgiVCxTcDTE/Y9Htq+\nHSgDHrfWfif2X0dEROZKxARijNkOfNdaezj0egfwYBxln7HW/kFoey3woTFmg7X2HFAMPAM8BzQB\n26bzS4mIyOyLpgmrYTwhhDQZY+6PpWwoYTSOb7TWNjOWKL4W2tQFFAEl1trloaQiIiIJbMoEYoxp\nYOxGP1EXYWoIEcoWA0+HuUTZ+A/WWr+11hdFzCIikgAiNWEVh9nWwVgfRtRlrbWHjDEbJ+3bADw5\n/sIY8xjQGTr39qn6WURExHmREkhpDOeasuzEpi1jzBPATmvtm6FNOyc0W71ojDkb6h9RjUREJEFF\nSiDXw2wrC7Mt6rLGmGLgYWvtZ8e3henz6AIeAX44VXDGmGxgM9AKjE5VVkREAPAA84H91trB6Zwo\nUgLpInzT1OS+jljKPg18ffzF+BNZ1trSSccsjRAbjCWPd6MoJyIiN7sHeG86J5gygVhrdxljJjdN\n1TH2uG3MZUNjRJ4eb5oyxqxnLPH88aTjipnw1NYUWgF+/OMfU1VVFUVxEZH01tbWxje/+U0I3T+n\nI5qBhK8bY9ZN6MOotda+ATcSABM6vKcq+zBwEOgMDSpcCmyw1v4w1KxFqFxx6Lgpm69CRgGqqqpY\nuHBhFMVFRCRk2s3+0SSQJ4CnjDF1jDUZPT5h36OMjd/49lRlQ81U/wiMr17lCv08/jjwD0K1Exir\ntWggoYhIgnMl84qExpgaoHnXrl2qgYiIRKGlpYWGhgYYa+k5N51zaTJFERGJixKIiIjERQlERETi\nogQiIiJxUQIREZG4KIGIiEhclEBERCQuSiAiIhIXJRAREYmLEoiIiMRFCUREROKiBCIiInFRAhER\nkbgogYiISFyUQEREJC5KICIiEhclEBERiYsSiIiIxEUJRERE4qIEIiIicVECERGRuCiBiIhIXJRA\nREQkLkogIiISFyUQERGJixKIiIjERQlERETiogQiIiJxUQIREZG4KIGIiEhclEBERCQuSiAiIhIX\nJRAREYlLRjSFjDFPAo1AHbDLWnso1rLGmCLgiVCxTcDTE88TyzVERMR5EROIMWY78F1r7eHQ6x3A\ng3GUfcZa+weh7bXAh8aYDdbac7FcQySRBYNB/H7/bfcXFBTgcrnmMCKR2RNNDaTBWvvIhNdNxpj7\nrbVvRFsWaGasdgGAtbbZGNMEfA14FngghmuIJCy/38/L75wiJ8d7y76BgT4e2lpPYWGhA5GJzLwp\n+0CMMQ1A06TNXcC2GMsWA0+HuURZ6LjGSdvDXkMkGeTkePHm5d/yL1xSEUlmkTrRi8Ns62CsnyLq\nsqH+jI2T9m0AdsZ4DRERSRCREkhpDOeasux4/waAMeYJYEeoiSqWa4iISIKI1AdyPcy2sumUNcYU\nAw9baz8bxzVERCRBRKqBdBG+iWlyX0csZZ8Gvh7nNUREJEFMmUCstbu4tYmpjrG+i5jLhsZ6PG2t\n9YVer4/lGiIikjiiGYn+ujFm3YTXteOP1xpj1htj1kdZ9mHgINBpjCkyxmzg44712x4nIiKJKZpx\nIE8ATxlj6oDNwOMT9j0KFAHfnqpsaODgPwLBUDlX6OdtUx0nIiKJyxUMBiOXSlDGmBqgedeuXSxc\nuNDpcETw+Xy8vu8C3rz8W/b19fbwwJbFGkgojmppaaGhoQHGWnrOTedcmkxRRETiogQiIiJxUQIR\nEZG4KIGIiEhclEBERCQuSiAiIhIXJRAREYmLEoiIiMRFCUREROKiBCIiInFRAhERkbgogYiISFyU\nQEREJC5KICIiEhclEBERiYsSiIiIxCWaFQlFZJp8vUPY5i5Ggm7uWb+E+eV5TockMm1KICKzqKN7\ngLcOXqStow+Afac6+IffnKFmfiH/7hvrWbawGIBgMIjf7w97joKCAlwu15zFLBItJRCRWXLdN8Av\n3mmkf3CEhZX5LK7MZWVNKceautl/so3v/PV7PPmtTWxZXYXf7+fld06Rk+O96RwDA308tLVey+BK\nQlICEZkFnb4B/vntseRx74aFrKkro6+3h/s3LuArn6nng2OtPPvjD/kfz+/lX399HZ9cWUJOjjfs\nWuoiiUqd6CIzbGQ0wCu7m+kfHGHrumrW1JXdUuauO+bzZ3/4KfK9Wfzti0dovhy++UokkSmBiMyw\no41ddPcMceeycu5YVn7bcisWl/BHv7ORkdEgf/XiCYZHAnMYpcj0KYGIzKBL13o51tRJfm4mW9ZU\nRSy/ob6Shz+zjCvX+9l94tocRCgyc5RARGZIMBjk+VdOEwjCPeurycrwRHXctz6/kqXVhTRd7uF8\nm2+WoxSZOUogIjNk99FWTp7vYnGll7oFRVEfl+Fx89iXDAAfHGslEAzOVogiM0oJRGQGBAJBfrbT\n4nLBpvpbO80jWTwvn6XV+XR0D3D6QucsRCgy85RARGbA3hNtnGv1cfcd8yjKy4rrHBuWl+Jxu9h7\noo2RUXWoS+JTAhGZpmDw49rHV+5ZEvd58nMzuWNZOT19wxxv7JjBCEVmhxKIyDTt/+gKTZe6uefO\nahZMMcfV+HQlPp/vln9+v58gQTbWV5LhcXPkzDUCAfWFSGLTSHSR25hqfir4eI6q7btOA/DIthVT\nnm+gv48dH3RRVFxyy77Ozmt4vQWU5BWwsqaEY40dNF3uZkGJPqKSuPTXKXIbt5ufCj6eo+py5wj2\nfCebV81jSVUhPt/Uj+Hm5OaGna6kv6/3xs9rl1VwrLGDI6evseAT86f/i4jMEiUQkSlEmp/qF283\nAvDlrUtn7JrFBdksqSrgfJufa10DM3ZekZkWVQIxxjwJNAJ1wC5r7aF4yxpjngZ2WGvfmLDt8dCP\n24Ey4HFr7Xdi+UVE5lp79wC7j7VSM7+QtVNMWRKPO5dXcL7Nz0fnumf0vCIzKWICMcZsB75rrT0c\ner0DeDDWssaYBmAD8DCwY9KhxcAzwHNAE7Atnl9GZC7t2NtCIBDky1uXzvh6HQsr8yktzKG5rYeu\nnkE0m7skomiewmoYTwghTcaY+2Mta63dZa39HtAc5rhOoAgosdYut9aeiyIuEccMjwR482ArxQXZ\n3LuhesbP73K5WF1XRjAI7x+9MuPnF5kJUyaQUK2hadLmLsLUEGIpG4bLWuu31moiIEkKjZf99A2O\n8IW7asiMcs6rWK1YXIzH7eKtQ60ENb2JJKBITVjFYbZ1AJumWfYWxpjHGKuJbAK2T9XPIuKkYDDI\nqQs+3C4XD34y/oGDkeRkZbB4Xh7NrT3Y853U15TO2rVE4hEpgcTyFzudv+6dE5qtXjTGnDXGbFCN\nRBJRW0cfnf4htqyqoKwod1avtXxhAc2tPezYe14JRBJOpD6Q62G23W6muFjK3iRMn0cX8Eg0x4rM\nteNNY9OMPLBp5vs+JltQlktZUTbvHblE/+DIrF9PJBaREkgX4ZumJvd1xFr2BmNMrTFmcvJpAmbu\nwXqRGdI/OMLZli6K8jJZVRPuz31muVwu7l03n/7BUd4/cmnWrycSiykTiLV2F7c2TdUBO6dTNow/\nnvS6mLGxJCIJ5eS56wQCQcziwhl/dPd2tq4bW9lw14GLc3I9kWhF8xjv68aYdRNe144PAjTGrDfG\nrI+m7O1Ya5uZUHMxxhSHjvthFLGJzJlgMMjJc9fxuF0sqy6Ys+tWFOeyZmkZxxs7aOvojXyAyByJ\nZiT6E8BTxpg6YDPw+IR9jzI2fuPbkcqGEs2jQANQYox5wVr7bGj3D0Ij2GGs1qKBhJJw2jr66PIP\nsnxRMdmZs/Po7u00bFrE8cYO3vywhd9+0MzptUVuJ2ICsdZ2A+PTirw0ad9TMZQ9BBwCbjpmwnHf\nizpqEQecOj/WVbfSgaeh7l67gOd+fow3D1zkG9tWzFnzmchUtB6ISBSGR0Y5c7GLfG8mCytvP7ni\nbPHmZHLXHfNp7ejlo+ZwDzyKzD0lEJEoNF7qZngkQP2SUse+/TdsWgTAG+pMlwShBCIShZPN481X\nty4GNZsmrmJYU5lNaWE27xxq4VpHJz6fT1OciKO0HohIBL7eIS6391JdkUdhXvacXnvyKoaLKrwc\naezk+ZdPsbDMw0Nb6ynUVL3iECUQkQjOtnQBsGLxx7WP2y13O762+UyauIrh2hWZHGns5OzlXpZV\nV83odURipQQiEsGZi124XVBXXXRj2+3WNx9f2zwvb3bGiRTmZbOwMp+Wqz109wzNyjVEoqUEIjKF\n7p4h2rv6WVJVQE7WzR+XcOubT1zbfLasqi2l5WoPp1turQGJzCV1ootMoam1B4Dli+e283wqtQuK\nyM70cPaSn5HRgNPhSBpTAhG5jWAwSHNrDx63i9r5idNRneFxY5aUMDA0yqHTHU6HI2lMCUTkNi5c\n6aW7d5ia+YVkzfHUJZGsrhtbKeG1vS0ORyLpTAlE5Db2nrgKwLJFsz9te6xKC3NYUJbLyfNdNF3q\ndjocSVNKICK3ccBew+N2saQqcZqvJlpVM/ZU2K/enXLJHZFZowQiEsalaz1cutZHdXkumRmJ+TFZ\nWOGlqjSXtw+10OUfdDocSUOJ+ckQcdje460ALJ6X53Akt+dyuXhwy0KGRwL8Zs85p8ORNKQEIhLG\nnuNtuFywqDJxEwiMrVbozcnglfeaGRjSmukyt5RARCbp9A1w6vx16hcXk5OVWE9fTZabncFDn66j\nq2eQHXvOOx2OpBklEJFJ9n3URjAIG+vLnQ4lKr91Tx05WR5efPMMQ8OjTocjaUQJRGSSPcfbANho\nkiOBFOVn84W7a7nuG2TnvgtOhyNpRAlEZIKBwRGOnLlGzfxCKktynQ4nal+5bylZmR7+6Y0zDI9o\nehOZG0ogIhMcPdvO8EiAzavmOR1KTEoKcvjcXUto7+pn5z71hcjcUAIRmWD/ySsAbFqZ+Alk4mqF\nPp+Pz22eT3amm5++dor2jk6tViizTtO5i4QEg0EOfNRGgTcTs6SU3p7Eni493JokZlEhR5u6+N8v\nHOLJb23SaoUyq1QDEQk51+qjvXuA9aYSj9vldDhRGV+TZPzf5jXVZGW6OXmhl75BjQuR2aUEIhJy\nINR8tTkJmq9uJycrg/UrKhkcDvDPb5290bw18Z+atmSmqAlLJOTAySu4XLChPnkTCMDa5eUcPn2V\n1/a3UpiXfdNgyIGBPh7aWq+mLZkRqoGIAP6+IU6du45ZXEJhXpbT4UxLVoaHlYvyGBkF29J3UxNX\nTo7X6fAkhSiBiACH7FUCweR4+ioayxZ4yc1yc/RsO30Dw06HIylKCUTSWjAYxOfzsefYJQDqF+ff\n6Cvw+/0ESc7+ggyPi1U1BYyMBjhorzkdjqQo9YFIWvP7/fzq7ZMcOHmN3CwPZy9cp/FiJwCdndfw\negvIyytwOMr4LFuQh73Yx/HGdtavqCAvN9PpkCTFqAYiaa9vKIP+oVEWzy8kL7/g4/6C7OTuL/C4\nXWysr2Q0EOTwGdVCZOYpgUjaa2nvA2BJVXLWNKZSX1OKNyeD440dDGhciMwwJRBJe5eujSWQRZWp\nl0AyPG7Wr6hkZDTAkbPtTocjKSaqPhBjzJNAI1AH7LLWHoq3rDHmaWCHtfaNeK8hMlP6Bka42jXA\nvFIvOdmp2SW4uq6UD09d4djZdkx1cjfLSWKJ+IkxxmwHvmutPRx6vQN4MNayxpgGYAPwMLAj3muI\nzKTjTdcJBmFxCjZfjcvM8HDn8gr2nmjDXuzmC04HJCkjmiashvEbe0iTMeb+WMtaa3dZa78HNE/z\nGiIz5sjZ6wAsnpe6CQTgjqXlZGa4OXGuW+uFyIyZMoGEag1NkzZ3AdumU3YmjhOZrmAwyNHG62Rn\nuqksTe2mnewsD6tqy+gfHGX38StOhyMpIlINpDjMtg7G+immU3YmjhOZlgttfq77Bqku9+J2Jcfs\nu9Nx5/JyXC749e6LmlBRZkSkBFIaw7liKTsTx4lMy4enxr6JV1ekdu1jXIE3i9r5+bRc6+XDU1ed\nDkdSQKQEcj3MtrIZKDsTx4lMy/hNtLo8edY+n641tWMV/pfePOtwJJIKIiWQLsI3MU3us4i17Ewc\nJxK3voFhPmruoHZ+Abkp+vhuOGWF2aypK+FYYztnW7qcDkeS3JQJxFq7i1ubmOqAndMpOxPHiUzH\n0bPtjIwGuXNZ+rWgfuGuRQD84u1GhyORZBfNY7yvG2PWTXhdOz4I0Biz3hizPpqy8V5DZCaMz7o7\n/u+Doy0ALK/OTdoZd+O1dmkpi6sKePfwJdq7+p0OR5JYNHX3J4CnjDF1wGbg8Qn7HgWKgG9HKhtK\nNI8CDUCJMeYFa+2zUVxDZNr8fj8vv3OKnBwvwWCQfR9dJSvDjW2+RH5eYdLOuBsPl8vFV7Yu5S+3\nH+bl95r43YdWOx2SJKmICcRa2w18J/TypUn7noqh7CHgEHDTMZGOE5kpOTlevHn5XPcN0NM/wrKF\nRXhz0qcDfaJ7NyzkR78+yW8+OMej20xa9QPJzNFkipJ2zrf5AFhclb7rgmdlevjip2vpHRhh577z\nTocjSUoJRNLO+VY/kJrTt8fi83fVkJXp4ZfvNDE6Griln2jyPw0+lMlUb5W0Mjg8Smt7D5UluXhz\nMun3Ox2Rc4rys2nYtIhXPzjHB8dbWVtbcKOfaLKBgT4e2lpPYWH61trkVqqBSFppueInEIQl83Uj\nBPjyvUtxueDnb50lGAze6Cea/C9cUhFRApG0ci7U/7Ekjfs/JqquyGfLqipOX+ji9MVup8ORJKME\nImkjGAxyvtVPbnYGlSXp+fRVOF+9bxkAr+y+6HAkkmyUQCRtdPgG6R8cYUlVAa40mH03WqtqS1mx\nuJiDtp3u3iGnw5EkogQiaaPl6tja5+r/uJnL5eKr9y0jCJxoVjOWRE8JRNLGxWt9uF2wKMVXH4zH\nXXcsoLIkh7OX/PQNDDsdjiQJJRBJC53+Qdq7B1lQkU92psfpcBKOx+3i859cxGggyLHGDqfDkSSh\ncSCSFg6dHrsp1qR581UwGMTvDz/4ZcOyfH6W6eZYYzsbTAWZGUq0MjUlEEkLH9prANQuKHI4EmcN\n9Pex44MuiopLbtnX2XmN5dV5HD/n5+S5TtYuK3cgQkkmasKSlNc/OMKJpi5KCrIozMtyOhzH5eTm\nhh8smO1lxcI8PG4XR85cI6CpSyQCJRBJeYdPX2V4NMDiyjynQ0l4OVkezJISfL1DNF/SE1kyNSUQ\nSXl7T7QBsKhS03FEY93yCgAOn77mcCSS6JRAJKWNBoLs/+gKxflZlBdlOx1OUigpzKFmfiFt1/to\nbe91OhxJYEogktJONnfg6x1iw4pyjT6PwfoVqoVIZEogktI+ONYKwOaVeqIoFvPL86gsyaXpcjdd\nPYNOhyMJSglEUlYwGGT3sVbycjNZVXvrY6tyey6Xi3WhWsjRM6qFSHhKIJKyzlzsor2rn0+sriLD\noz/1WC2tLibfm8nJc50MDo06HY4kIH2qJGXtPnoZgLvvmO9wJMnJ7XZx57IKRkYD2Is+p8ORBKQE\nIikpGAyy+2grudke1ptKp8NJWitrS8nMcPPR+W5GRgNOhyMJRglEUtK5Vh+tHb1sWllFliZPjFt2\npodVtWX0D47y/rErTocjCUYJRFLS++PNV2vVfDVddy4vx+WCX39wkaCmN5EJlEAk5QSDQd49dIns\nLA8b6+c5HU7SK/BmUVuVT8vVXg5ZPZElH1MCkZRztqWLy+29fGJVFbnZmnB6JqypLQbg52+ddTgS\nSSRKIJIygsEgPp+PnXuaAdhUX4rP58Pn8+H3+wmi5pd4lRVls7q2hMNnrtHY0uV0OJIglEAkZfj9\nfn719knePnSZrAw37dd7eX3fBV7fd4Hf7D7N0KBGVE/HF+9eBMBLqoVIiBKIpJTuPjd9g6MsW1RM\nQWHBTWtdyPSsXVpKzfxC3jt8icvtPU6HIwlACURSSmPr2I1t+aJihyNJPS6Xi0caVhAIwktvqhYi\nSiCSQkZGA5xv68Gbk8GCinynw0lJd9+5gAXleezaf4H2rn6nwxGHKYFIyjho2xkcDrB8UQluTd0+\nKzxuF1+7fzkjo0E9kSVKIJI63j48tvLgyhrNvDub7tu4iPLiXH6z5zydvgGnwxEHKYFISrjuG+DI\n2Q7Ki7IpK8p1OpyUlpnh5pGG5QwNj7L99dNOhyMOimqUlTHmSaARqAN2WWsPxVP2dvuMMY+HimwH\nyoDHrbXfif3XkXT15oGLBIOwrLrA6VDSwrZPLOHnbzXymz3n+PK9S6kqy3M6JHFAxBqIMWY7sNNa\n+5K19lngmXjKRjhPMfB94DrwWuhnkagEg0Fe33+BTI+bugXqPJ8LGR433/p8PSOjQX782imnwxGH\nRNOE1WCtPTzhdZMx5v44yk61rwsoAkqstcutteeiCV4EwF7opOVqDxvry8nWzLtz5tN3VlO3oIi3\nD7bQfLnb6XDEAVMmEGNMA9A0aXMXsC2WstGcx1rrt9Zq1RqJ2Y495wG4d71m3p1LbreLf/HFlQSD\n8He/PK6ZetNQpD6QcKOxOoBNMZaNeB5jzGNAZ2jb9qn6WUTG+fuGePtgC/PL8lhTV8IbHRohPRuC\nwSB+v/+W7cvm57CpvpIDp67y3pHL3LOu2oHoxCmREkhpDOeaqmyk8+yc0Gz1ojHmrDFmg2okEsmu\n/RcYGgnw+btrNPZjFg3097Hjgy6Kim9+RHpgoI/f2VbHkbPt/PAXx9lYX4k3J9OhKGWuReoDuR5m\nW1kcZac8T5g+jy7gkQixSZoLBIL8+v1zZGW4eWDLYqfDSXk5ubk35ha7McdYjpd5pbl87f7lXPcN\n8LOdeqw3nURKIF2Eb36a3J8Rqext9xljao0xkxNME7A0QmyS5g6dvkprRy9b1y+kwJvldDhp7eH7\nl1NV5uUX7zRy9qKme08XUyYQa+0ubm1+qgN2xlB2RxTn+eNJ+4oZGy8icpPxNT98Ph+/fPsMAPet\nq9SaHw7LzvTwb762jkAgyF/87CDDI6NOhyRzIJrHeF83xqyb8LrWWvsGgDFmvTFmfYSyb051Hmtt\nMxNqJ8aY4tC+H8b2q0g68Pv9vPzOKV584ywHT3dQUZRNY0un1vxIAHeuqOALd9dwoc3PT16zTocj\ncyCakehPAE8ZY+qAzcDjE/Y9ytj4jW9HUXaqfT8IjVKHsZrJLY8Ji4zLyfFy+GQnABtXVeHNGxs8\n2N/X62RYaWny01kP37uIAyfbePHNM6ypKWDDqoW49HBDyoqYQKy13cD4tCIvTdr3VAxlI+37XtRR\nS1rrGxjBXuikKD+L2gVFToeT1sI9nbVxRSmv7r3Msz85wl/8+zyqKmJ5mFOSiSZTlKRz4lw3gUCQ\n9Ssq9ehuApj8dFbdogo2mEp6Bkb50atnnA5PZpESiCSVvoER7EUfudkZmCWatj1RbVk9j/KibN49\n0sY7h1qcDkdmiRKIJJXX9rYwPBLgzuXlZHj055uoPG43W++sJDvTw9/80xGuXO9zOiSZBfoEStLw\n9Q7xygcXyM50c8fScqfDkQgKvZk8+plF9A6M8Oc/2kdnV9eNR7B9Pp/mzkoBUa0HIpIIXnrzDP2D\no2ypLyNLs+4mvIH+PgYHB6mpyuP0xW7+10+Psn75WIf6wEAfD22tp7Cw0OEoZTpUA5Gk0NHdz6/e\na6a0MBuzWDedZJHr9dKwpYZ8byZHznbS3e+6MQWKJD8lEEkKL+w8zdDwKF/dWqO+jySTk5XBts1j\nc5W9vv8CQ8MapZ4q9EmUhNd0qZvX9pyjuiKPreuqnA5H4rCgIp8N9ZX4eod49/Alp8ORGaI+EElo\ngUCQ5146SiAIT3x1rWofSWzzqiouXvFz6nwnVSWa/DIV6NMoCe2NAxc5ee46n1q7gA2m0ulwZBo8\nbhfbtiwhw+Nm94lrXPdp3rJkpwQiCcvfN8Tfv3KC7CwP/+q31jgdjsyA4oJsPrV2PkPDAf7PL08S\nCOhR3mSmBCIJ67kXj9LdM8Q3thkqSnKdDkdmyOq6MhZWeDnW2Mkr7zc7HY5MgxKIJKS3Dl7kncOX\nWLawkIYNFTcGn2nNj+Tncrn41B0VFHgz+fuXT3ChTStXJyslEEk47V39/O2LR/G4XdxZV8ybB1p4\nfd8FrfmRQrzZGTz2JcPQSIBnf/yhFqBKUkogklBGRwP8z598SN/ACFtWllFVWXLzGtzZGoCWKjbV\nV/DZTy6h+bKP//fKSafDkTgogUhCef7ljzje2MHmlRWYRRpxnuoe+601VFfk84t3Gvnw1BWnw5EY\nKYGIYyaub+7z+Xj1/TP84p1GFpR7+WbDQtBSHykvJzuDJ7+1kQyPi7/46UE6uvudDklioAQijhlf\n3/z1fRf46Y7TfP+fT5KZ4eaTK8t460Cj+jrSxNKFxfz+l9bQ3TPEMz86wMhowOmQJEpKIOKonBwv\nw8FMdh28QiAQ5MEtS5g/r1R9HWnmoU/X8qk7F3Dy3HV+9Gv1hyQLTWUijhoYGuXVvS30D45w7/pq\nahao3yMdBINB/H7/Tdt+9/NLabzYyc/fOktddRH3bVjoUHQSLSUQcUzf4Ag7D7TS1TPIBlPBGi0S\nlTYG+vvY8UEXRcU3L0u8YVkebx4Z4i9fOERVqZf6mlKHIpRoqAlLHDEwOMKzPzlKe/cg9UtK+OSa\n+U6HJHMsJzf3pke0vXn5zCsr4t9+bTWjgSD/4/l9Wgo3wSmByJwbGBrhT5/fi73QTe38fD6zaREu\nlx65kjEdLKdjAAAKS0lEQVRrl5XxxFfuoKtnkP/83G49mZXAlEBkTvUNDPNff7CHI2fa2WjK2bq2\nEreSh0zyxU/V8ugDK2jt6OU/PbebTv+A0yFJGEogMqsmjvW4fKWDP/mbdznR1MEnVlXw+59bjEt/\ngTLBeOe6z+fjS3cv4It3LaLlag9/8tfv0dxylWBQ86AlEnWiy6waH+sxNJrJzg9b8fUOs7Q6n/pF\nBezcexavt4C8vAKnw5QEMblzvaIok1U1RXx0rpv/+Dd7+S+/t5E1yxc4HKWM0/c/mXXd/S5e2XMJ\nX+8w61dU8NlP1pFfUKCxHhLWxM71vPwC7tu4hLvXzqd/MMB/e/4ge4+3Oh2ihCiByKwJBIK8svsC\nr+69zODwKPdtWMjdaxeow1xi4nK5WL+ikvvWzWNkNMifPr+P7//8KEPDmsHXaWrCkllx3TfAX20/\nzIGTV8jN8vDgJ5ewsFJNVRK/mqo87llbzv99tZmX32vmsL3K731xBfVLigEoKCjQl5M5pgQiM2o0\nEOTV3c38w6sn6RsY4Y6lJaxeUkhZqZKHTM9Afx8nznRx//p57D/VwakLPv773x9iaXU+qxd7efTB\n1RQWaiaDuaQEIjMiEAjywbFWfrbTcq7VR15uJn/4tTu5a1UJb+y/6HR4kiJycnMpLCykYUshq5f2\n8vahSzRe6qH5cg+9Qxn89udWM69UfWtzRQlEpqW3f5i3D7XwyvvNXGjz43ZBw+ZF/MsvrqKkIAef\nT8uVyuyoKsvj6w3LOX2hk/0n2tj14WXeOHiZzSur+MKnali3ohKPW01asymqBGKMeRJoBOqAXdba\nQ/GUjXefJIbxZ/QHhkY5eraD/afa+fDUNQaHA7hd8Om18/jq1hqqyrwQHMLnG9Ia5jKr3C4X9UtK\nqS7JwOOBd452sO+jNvZ91EZxfhZ3rZnHA1tqWL64RP0jsyBiAjHGbAe+a609HHq9A3gw1rLx7hPn\ndfoHaGzp5tiZNt49fJkO3xCBUE4oyM1gdW0xlflDeLOHOd7YzvHGCcd2XtNYD5l1Q4P9DA0NsXVt\nBauWFHL6oo/mth5e3XORV/dcpKwwm031FWwwZdQvKSbDM/YAqjrepyeaGkiDtfaRCa+bjDH3W2vf\niLFsvPskTuGmzJ64LxgMMjAUwNc3hL93GF/fMN09Q/QOBmnvGuByew+X23vp8t+8sFNFSS6L5xWw\ntLqI8uJcXC4XHdeu4PZ48Obl31S2v6931n4/kYnGx48szstn8YIyRgMBjtuLXLjSR1vXMK/ta+G1\nfS1kelzML/dSWeThGw+uZEXNPCWROE2ZQIwxDUDTpM1dwDbgjWjLGmNc8eybfA2Jjc/n48VdHzEw\nnEF33zD+0L/egRF6+oYYHA7eqEmE43JBeVEO61eUUTu/gKriDDp7hyktLp67X0IkTh63m4XlOSye\nl0dhcSmXr/VyrtXHuVYfF670cuEKHDi9l+L8bOprSqirLqZmfgHVFfmUF+fizcm85ZxTfSmD9KvR\nRKqBhLtTdACbYiwb7z6JwuhogPbuAS5d66Hlqp+WKz1cuOLnfKuPnv7hW8q7XZCT5aakIIOCvFxy\nsj3kZmWQm53B6HAfme4AlWXF5Odm4vF8/GG4fOUqXq+aoiT5eNxuFs0rYNG8Au5ZV013zyCNF9oJ\nutycbfGx53gbe4633XRMbraH/NxMvDkZ5GR5yMxw43EF6fQPkJ2VSabHTWaGm6xMN9mZbtyM8MAn\n6qieV0pxQTZZmR6Hftu5EymBxLKay1Rl490nUzjf5uPP/+EAl672MDqpKuFyQXlhFiUFXipK8igu\nyKEoL4vC/Gy8ORl0tl/F7fFQUnrzIk7jTVElpbf+t6g5SlJFUX429UuKeGDLYgoLC2nv6r9RO2nr\n6KW1fewLWN/ACJ3+QUZGJ1fVw88O/M6xD2/8nJvtoTAvm4K8LPJzM8nKgNwsDzlZGWRlhpJPhpu8\nvFwWlOezZXXVLP7GsyNSArkeZltZHGXj3ReJB6CtrS1SuZTU0uqjp+saXtcguTlu8nLc5Od6KMh1\nk5/joa/nClneQgoLPcAAwX7o7oduoLu7A5crg76emx+zvd32ePfpfDpfop5vcLCfM2cGycvLAyDf\nBWsWwJoFOfT2jrL3hI/s7FxgrOlqNBCks6sTcJOdm8/oaJCRkQCDowGGhgL0DQxSWpTDwBD4+4fp\n7R/E39nFldZRhkcDt1x/sr/8o/vCNpvNtAn3y2lXkSIlkC7CNzFN7rOIVDbefZHMB/jmN78ZRVER\nkcT1pTeenutLzmds6ETcpkwg1tpdxpjJbRl1wHMxlP1ba+2bcey75Rph7AfuAVoBzawmIhKZh7Hk\nsX+6J4rmMd7XjTHrxsdoALXjj9caY9YDTBj0F67sm3Hui/gElrV2EHgvit9BREQ+Nq2ax7hoEsgT\nwFPGmDpgM/D4hH2PAkXAt6MoG+8+ERFJQC4tESkiIvHQglIiIhIXzcYrIknPGPM0sGNy32k6TuAa\n7r0wxox3C2xnbJjE49ba70zYH9d7oQQiKSVVbwqRzNYNItGFplDaADwM7Ji0L60mcJ3qvWBsqMQz\njD3d2sTYVFHjx8X9XiRlAtG3DQknFW8KMZiVG0Sis9buAnYZY7aF2Z1WE7hGeC86GXvgyWWtnTyq\nMu73IqkSiL5thJeu3z7DSLmbQgxm5QaRrOKd3JXUncDVZa29ZRbIWCbMDSepOtGttbustd8DmsPs\nbpgwjgRCH5Io9qWCYuD7jE0L81roZ+BG8txprX3JWvssY99SU06ED0I6cFlr/ZOTRxq/L7ebpLUu\nwr6UZYx5zBjzsDHmz8bH8DHN9yKpaiC3o28b+vaJZnXGGPMYY38Lm4DtoZpmur4vmsD1ZjuttedC\nP79ojDlrjNnANN+LlEggaLr4WameJpl0vClMNCs3iCQ2WxO4JqUJfxvjuoBHmOZ7kSoJJO2/bejb\nZ/rdFCaarRtEEputCVyTjjGmFvjQWjvxXtgELAVeZxrvRVL1gUwh3b9t7LTW/tBa+2Ko8/wfjTGF\npEnyDEmrm8JExphaY8zkv/PxG0Ravi+hJ5LCTdK6Y4p9O+ciNof88aTXxcDZ6b4XjtZAQk8PbQTC\nzafiCm1/Jsy3q8nS+tuGvn3GNnN0irrtDSKN35cZn8A1GVlrm40xN+6BoZ9rrbV/F9oU93vhaAKx\n1v4A+MEMnCeeqeQT9gMUS2KdzeppEkqbm8JEs3mDSHShp4keBRqAEmPMC6GnDSHNJnCN8F78IPQ4\nP4zd/yY+hRf3e5EqfSCQQt824kis+vY5JuVuCjGYlRtEogv19R0CngqzrxsYHw/1UrT7klUU78X3\nbnNc3O9FUs3GOyHDPgkcBG5kWGNMEWNv3H7GPiQvTBg4eNt9qcAY8x8mvA/FwH5r7fLQ6xeAP5vw\nXuy31m52LloRSRVJlUAkvFCCfCL0so4J/UapnjxFxDlKICIiEpdUeYxXRETmmBKIiIjERQlERETi\nogQiIiJxUQIREZG4KIGIiEhclEBERCQu/x+v66tvkbFB/wAAAABJRU5ErkJggg==\n",
      "text/plain": [
       "<matplotlib.figure.Figure at 0x1251ad650>"
>>>>>>> master
      ]
     },
     "metadata": {},
     "output_type": "display_data"
    }
   ],
   "source": [
<<<<<<< HEAD
    "\n",
    "samples=samples_pearson.extract(permuted=False, inc_warmup=False)\n",
    "samples=samples[:,:,4].reshape(samples.shape[0]*samples.shape[1])\n",
    "\n",
    "fig = plt.figure()\n",
    "ax1 = fig.add_subplot(1,1,1)\n",
    "\n",
    "ax1.hist(samples, 30, color='#A3C2FF')\n",
    "ax1.set_axis_bgcolor('#F1F2F2')\n",
    "ax1.tick_params(axis=\"y\", labelcolor=\"b\")\n",
    "ax1.spines['right'].set_visible(False)\n",
    "ax1.spines['top'].set_visible(False)\n",
    "ax1.tick_params(axis='x', colors='#414042', labelcolor='#414042')\n",
    "ax1.tick_params(axis='y', colors='#414042',labelcolor='#414042')\n",
    "ax1.yaxis.label.set_color('#414042')\n",
    "ax1.xaxis.label.set_color('#414042')\n",
    "# Only show ticks on the left and bottom spines\n",
    "ax1.yaxis.set_ticks_position('left')\n",
    "ax1.xaxis.set_ticks_position('bottom')\n",
    "ax1.axhline(color='#414042', linewidth=2)\n",
    "\n",
    "plt.ylabel('Number of Bins)', color='#414042')\n",
    "ax1.spines['top'].set_color('red')\n",
    "\n",
    "plt.ylabel('Number of Trials', fontsize=20)\n",
    "plt.xlabel('r', fontsize=20)\n",
    "\n",
    "plt.show()"
=======
    "x=20\n",
    "y_pred=np.empty((2000))\n",
    "for i in range(0,2000):\n",
    "    y_pred[i]=samples[:,:,0].reshape(-1)[i]+samples[:,:,1].reshape(-1)[i]*x+np.random.normal(0,samples[:,:,0].reshape(-1)[i])\n",
    "sns.distplot(y_pred)\n"
>>>>>>> master
   ]
  },
  {
   "cell_type": "markdown",
   "metadata": {
    "slideshow": {
     "slide_type": "slide"
    }
   },
   "source": [
<<<<<<< HEAD
    "$\\kappa$ Values\n",
    "\n",
    "<img src=\"https://astronomy.sussex.ac.uk/~pr83/kappa.png\" />\n",
    "\n"
=======
    "## Gaussian Mixtures Modelling"
   ]
  },
  {
   "cell_type": "markdown",
   "metadata": {
    "slideshow": {
     "slide_type": "fragment"
    }
   },
   "source": [
    "Gaussian Mixtures modelling is an unsupervised learning method to model continuous data as a group of Gaussians\n",
    "<img src=\"https://upload.wikimedia.org/wikipedia/commons/thumb/e/ed/Nonbayesian-gaussian-mixture.svg/500px-Nonbayesian-gaussian-mixture.svg.png\" />"
>>>>>>> master
   ]
  },
  {
   "cell_type": "code",
<<<<<<< HEAD
   "execution_count": 26,
   "metadata": {
    "collapsed": false
=======
   "execution_count": 16,
   "metadata": {
    "collapsed": false,
    "slideshow": {
     "slide_type": "subslide"
    }
   },
   "outputs": [
    {
     "data": {
      "text/plain": [
       "<matplotlib.collections.PathCollection at 0x10c6e31d0>"
      ]
     },
     "execution_count": 16,
     "metadata": {},
     "output_type": "execute_result"
    },
    {
     "data": {
      "image/png": "iVBORw0KGgoAAAANSUhEUgAAAXAAAAD/CAYAAADoiI2GAAAABHNCSVQICAgIfAhkiAAAAAlwSFlz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\n",
      "text/plain": [
       "<matplotlib.figure.Figure at 0x10c373490>"
      ]
     },
     "metadata": {},
     "output_type": "display_data"
    }
   ],
   "source": [
    "import numpy as np\n",
    "import pylab as plt \n",
    "%matplotlib inline\n",
    "\n",
    "G1=np.random.multivariate_normal([2,4],[[1,0],[0,1]],200)\n",
    "G2=np.random.multivariate_normal([4,2],[[1,0],[0,1]],200)\n",
    "data=np.concatenate((G1,G2))\n",
    "plt.scatter(data[:,0],data[:,1])"
   ]
  },
  {
   "cell_type": "code",
   "execution_count": 59,
   "metadata": {
    "collapsed": true,
    "slideshow": {
     "slide_type": "skip"
    }
>>>>>>> master
   },
   "outputs": [
    {
     "data": {
      "text/plain": [
       "Inference for Stan model: anon_model_730a353f049501aac63c4de3fe0e0a30.\n",
       "4 chains, each with iter=10000; warmup=5000; thin=1; \n",
       "post-warmup draws per chain=5000, total post-warmup draws=20000.\n",
       "\n",
       "        mean se_mean     sd   2.5%    25%    50%    75%  97.5%  n_eff   Rhat\n",
       "alpha 5.8e-3  7.7e-5 5.7e-3 1.5e-4 1.7e-3 4.1e-3 8.0e-3   0.02 5576.0    1.0\n",
       "beta    0.49  4.0e-3   0.29   0.02   0.24   0.49   0.75   0.98 5390.0    1.0\n",
       "gamma   0.92  3.0e-4   0.02   0.87   0.91   0.92   0.93   0.95 5026.0    1.0\n",
       "pi[0] 2.9e-3  5.2e-5 3.8e-3 2.3e-5 4.9e-4 1.6e-3 3.8e-3   0.01 5305.0    1.0\n",
       "pi[1] 2.9e-3  5.1e-5 3.7e-3 2.6e-5 5.2e-4 1.6e-3 3.9e-3   0.01 5212.0    1.0\n",
       "pi[2]   0.08  2.9e-4   0.02   0.04   0.07   0.08   0.09   0.13 5037.0    1.0\n",
       "pi[3]   0.91  3.0e-4   0.02   0.87    0.9   0.91   0.93   0.95 5018.0    1.0\n",
       "xi      0.92  3.0e-4   0.02   0.87    0.9   0.92   0.93   0.95 5015.0    1.0\n",
       "psi     0.91  3.1e-4   0.02   0.86    0.9   0.91   0.93   0.95 5041.0    1.0\n",
       "kappa   0.05  9.2e-4   0.07-6.2e-3 6.8e-3   0.03   0.07   0.23 5156.0    1.0\n",
       "lp__  -57.78    0.02   1.42  -61.5  -58.4 -57.42 -56.76 -56.19 3521.0    1.0\n",
       "\n",
       "Samples were drawn using NUTS(diag_e) at Mon Jul 18 11:30:56 2016.\n",
       "For each parameter, n_eff is a crude measure of effective sample size,\n",
       "and Rhat is the potential scale reduction factor on split chains (at \n",
       "convergence, Rhat=1)."
      ]
     },
     "execution_count": 26,
     "metadata": {},
     "output_type": "execute_result"
    }
   ],
   "source": [
    "model=\"\"\"\n",
    "data {\n",
    "\n",
    "  int<lower=1> D;\n",
    "  int<lower=1> K;\n",
    "  int<lower=1> N;\n",
    "  vector[D] y[N]; //observations\n",
    "}\n",
    "\n",
    "parameters {\n",
    "  simplex[K] theta;\n",
    "  vector[D] mu[K];\n",
    "  real<lower=0,upper=10> sigma[K];  // scales of mixture components\n",
    "}\n",
    "\n",
    "model {\n",
    "  real ps[K];\n",
    "  for (k in 1:K) {\n",
    "\n",
    "    mu[k] ~ normal(0,10);\n",
    "  }\n",
    "\n",
    "  for (n in 1:N){\n",
    "  for(k in 1:K){\n",
    "\n",
    "    ps[k] <- log(theta[k])\n",
    "    + normal_log(y[n],mu[k],sigma[k]);\n",
    "}\n",
<<<<<<< HEAD
    "\"\"\"\n",
    "# CHOOSE a data set:\n",
    "# Influenza \n",
    "#y = [14., 4., 5., 210.]\n",
    "# Rare Disease\n",
    "y = [0, 0, 13, 157]\n",
    "\n",
    "data = {'y':y}\n",
    "\n",
    "samples_kappa = pystan.stan(model_code=kappa_model, data=data, iter=10000, chains=4)\n",
    "\n",
    "samples_kappa"
   ]
  },
  {
   "cell_type": "code",
   "execution_count": 27,
   "metadata": {
    "collapsed": false
   },
   "outputs": [
    {
     "data": {
      "image/png": "iVBORw0KGgoAAAANSUhEUgAAAZUAAAEYCAYAAACUdWs9AAAABHNCSVQICAgIfAhkiAAAAAlwSFlz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\nYII=\n",
      "text/plain": [
       "<matplotlib.figure.Figure at 0x11a24c810>"
      ]
     },
     "metadata": {},
     "output_type": "display_data"
    }
   ],
   "source": [
    "samples=samples_kappa.extract(permuted=False, inc_warmup=False)\n",
    "samples=samples[:,:,9].reshape(samples.shape[0]*samples.shape[1])\n",
    "\n",
    "fig = plt.figure()\n",
    "ax1 = fig.add_subplot(1,1,1)\n",
    "\n",
    "ax1.hist(samples, 30, color='#A3C2FF')\n",
    "ax1.set_axis_bgcolor('#F1F2F2')\n",
    "ax1.tick_params(axis=\"y\", labelcolor=\"b\")\n",
    "ax1.spines['right'].set_visible(False)\n",
    "ax1.spines['top'].set_visible(False)\n",
    "ax1.tick_params(axis='x', colors='#414042', labelcolor='#414042')\n",
    "ax1.tick_params(axis='y', colors='#414042',labelcolor='#414042')\n",
    "ax1.yaxis.label.set_color('#414042')\n",
    "ax1.xaxis.label.set_color('#414042')\n",
    "# Only show ticks on the left and bottom spines\n",
    "ax1.yaxis.set_ticks_position('left')\n",
    "ax1.xaxis.set_ticks_position('bottom')\n",
    "ax1.axhline(color='#414042', linewidth=2)\n",
    "\n",
    "plt.ylabel('Number of Bins)', color='#414042')\n",
    "ax1.spines['top'].set_color('red')\n",
    "\n",
    "plt.ylabel('Number of Trials', fontsize=20)\n",
    "plt.xlabel('kappa', fontsize=20)\n",
    "\n",
    "plt.show()"
   ]
  },
  {
   "cell_type": "code",
   "execution_count": 28,
   "metadata": {
    "collapsed": false
   },
   "outputs": [
    {
     "data": {
      "text/plain": [
       "0.0"
      ]
     },
     "execution_count": 28,
     "metadata": {},
     "output_type": "execute_result"
    }
   ],
   "source": [
    "y = [0., 0., 13., 157.]\n",
    "n = sum(y)\n",
    "p0 = (y[0]+y[3])/n\n",
    "pe = (((y[0]+y[1]) * (y[0]+y[2])) + ((y[1]+y[3]) * (y[2]+y[3]))) / (n*n)\n",
    "kappa_Cohen = (p0-pe) / (1-pe) \n",
    "kappa_Cohen"
=======
    "\n",
    "    increment_log_prob(log_sum_exp(ps));\n",
    "  }\n",
    "}\n",
    "\"\"\""
>>>>>>> master
   ]
  },
  {
   "cell_type": "code",
   "execution_count": 60,
   "metadata": {
    "collapsed": false,
    "slideshow": {
     "slide_type": "skip"
    }
   },
   "outputs": [],
   "source": [
    "import pystan\n",
    "sm = pystan.StanModel(model_code=model)\n"
   ]
  },
  {
   "cell_type": "code",
   "execution_count": 65,
   "metadata": {
    "collapsed": true,
    "slideshow": {
     "slide_type": "skip"
    }
   },
   "outputs": [],
   "source": [
    "GMMdata={\n",
    "    'D':2,\n",
    "    'K':2,\n",
    "    'N':400,\n",
    "    'y':data\n",
    "}"
   ]
  },
  {
<<<<<<< HEAD
   "cell_type": "markdown",
   "metadata": {
    "slideshow": {
     "slide_type": "slide"
    }
   },
=======
   "cell_type": "code",
   "execution_count": 68,
   "metadata": {
    "collapsed": false,
    "slideshow": {
     "slide_type": "skip"
    }
   },
   "outputs": [],
>>>>>>> master
   "source": [
    "fit = sm.sampling(data=GMMdata,iter=1000, chains=1)"
   ]
  },
  {
   "cell_type": "code",
   "execution_count": 69,
   "metadata": {
    "collapsed": false,
    "slideshow": {
     "slide_type": "subslide"
    }
   },
   "outputs": [
    {
     "name": "stdout",
     "output_type": "stream",
     "text": [
      "Inference for Stan model: anon_model_d7a05c9f98b0bd755c75155d804c7f5a.\n",
      "1 chains, each with iter=1000; warmup=500; thin=1; \n",
      "post-warmup draws per chain=500, total post-warmup draws=500.\n",
      "\n",
      "           mean se_mean     sd   2.5%    25%    50%    75%  97.5%  n_eff   Rhat\n",
      "theta[0]   0.48  4.1e-3   0.04   0.39   0.45   0.48   0.51   0.57  116.0    1.0\n",
      "theta[1]   0.52  4.1e-3   0.04   0.43   0.49   0.52   0.55   0.61  116.0    1.0\n",
      "mu[0,0]    2.01  9.8e-3   0.11    1.8   1.94   2.01   2.09   2.22  126.0    1.0\n",
      "mu[1,0]    3.96  8.6e-3    0.1   3.76    3.9   3.96   4.02   4.16  121.0    1.0\n",
      "mu[0,1]    4.01    0.01   0.11   3.78   3.94    4.0   4.09   4.24  123.0    1.0\n",
      "mu[1,1]    2.02  8.6e-3    0.1   1.83   1.96   2.02   2.09    2.2  124.0    1.0\n",
      "sigma[0]   1.05  4.9e-3   0.05   0.96   1.02   1.05   1.09   1.16  121.0    1.0\n",
      "sigma[1]   1.01  4.3e-3   0.05   0.92   0.97   1.01   1.04    1.1  118.0    1.0\n",
      "lp__      -1349    0.17   1.85  -1354  -1350  -1349  -1348  -1346  113.0    1.0\n",
      "\n",
      "Samples were drawn using NUTS(diag_e) at Fri Jul 15 20:16:32 2016.\n",
      "For each parameter, n_eff is a crude measure of effective sample size,\n",
      "and Rhat is the potential scale reduction factor on split chains (at \n",
      "convergence, Rhat=1).\n"
     ]
    }
   ],
   "source": [
    "print fit"
   ]
  },
  {
   "cell_type": "markdown",
   "metadata": {
    "slideshow": {
     "slide_type": "fragment"
    }
   },
   "source": [
    "Gaussian Mixtures modelling is an unsupervised learning method to model continuous data as a group of Gaussians\n",
    "<img src=\"https://upload.wikimedia.org/wikipedia/commons/thumb/e/ed/Nonbayesian-gaussian-mixture.svg/500px-Nonbayesian-gaussian-mixture.svg.png\" />"
   ]
  },
  {
   "cell_type": "code",
   "execution_count": 16,
   "metadata": {
    "collapsed": false,
    "slideshow": {
     "slide_type": "subslide"
    }
   },
   "outputs": [
    {
     "data": {
      "text/plain": [
       "<matplotlib.collections.PathCollection at 0x10c6e31d0>"
      ]
     },
     "execution_count": 16,
     "metadata": {},
     "output_type": "execute_result"
    },
    {
     "data": {
      "image/png": "iVBORw0KGgoAAAANSUhEUgAAAXAAAAD/CAYAAADoiI2GAAAABHNCSVQICAgIfAhkiAAAAAlwSFlz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\n",
      "text/plain": [
       "<matplotlib.figure.Figure at 0x10c373490>"
      ]
     },
     "metadata": {},
     "output_type": "display_data"
    }
   ],
   "source": [
    "import numpy as np\n",
    "import pylab as plt \n",
    "%matplotlib inline\n",
    "\n",
    "G1=np.random.multivariate_normal([2,4],[[1,0],[0,1]],200)\n",
    "G2=np.random.multivariate_normal([4,2],[[1,0],[0,1]],200)\n",
    "data=np.concatenate((G1,G2))\n",
    "plt.scatter(data[:,0],data[:,1])"
   ]
  },
  {
   "cell_type": "code",
   "execution_count": 59,
   "metadata": {
    "collapsed": true,
    "slideshow": {
     "slide_type": "skip"
    }
   },
   "outputs": [],
   "source": [
    "model=\"\"\"\n",
    "data {\n",
    "\n",
    "  int<lower=1> D;\n",
    "  int<lower=1> K;\n",
    "  int<lower=1> N;\n",
    "  vector[D] y[N]; //observations\n",
    "}\n",
    "\n",
    "parameters {\n",
    "  simplex[K] theta;\n",
    "  vector[D] mu[K];\n",
    "  real<lower=0,upper=10> sigma[K];  // scales of mixture components\n",
    "}\n",
    "\n",
    "model {\n",
    "  real ps[K];\n",
    "  for (k in 1:K) {\n",
    "\n",
    "    mu[k] ~ normal(0,10);\n",
    "  }\n",
    "\n",
    "  for (n in 1:N){\n",
    "  for(k in 1:K){\n",
    "\n",
    "    ps[k] <- log(theta[k])\n",
    "    + normal_log(y[n],mu[k],sigma[k]);\n",
    "}\n",
    "\n",
    "    increment_log_prob(log_sum_exp(ps));\n",
    "  }\n",
    "}\n",
    "\"\"\""
   ]
  },
  {
   "cell_type": "code",
   "execution_count": 60,
   "metadata": {
    "collapsed": false,
    "slideshow": {
     "slide_type": "skip"
    }
   },
   "outputs": [],
   "source": [
    "import pystan\n",
    "sm = pystan.StanModel(model_code=model)\n"
   ]
  },
  {
   "cell_type": "code",
   "execution_count": 65,
   "metadata": {
    "collapsed": true,
    "slideshow": {
     "slide_type": "skip"
    }
   },
   "outputs": [],
   "source": [
    "GMMdata={\n",
    "    'D':2,\n",
    "    'K':2,\n",
    "    'N':400,\n",
    "    'y':data\n",
    "}"
   ]
  },
  {
   "cell_type": "code",
   "execution_count": 68,
   "metadata": {
    "collapsed": false,
    "slideshow": {
     "slide_type": "skip"
    }
   },
   "outputs": [],
   "source": [
    "fit = sm.sampling(data=GMMdata,iter=1000, chains=1)"
   ]
  },
  {
   "cell_type": "code",
   "execution_count": 69,
   "metadata": {
    "collapsed": false,
    "slideshow": {
     "slide_type": "subslide"
    }
   },
   "outputs": [
    {
     "name": "stdout",
     "output_type": "stream",
     "text": [
      "Inference for Stan model: anon_model_d7a05c9f98b0bd755c75155d804c7f5a.\n",
      "1 chains, each with iter=1000; warmup=500; thin=1; \n",
      "post-warmup draws per chain=500, total post-warmup draws=500.\n",
      "\n",
      "           mean se_mean     sd   2.5%    25%    50%    75%  97.5%  n_eff   Rhat\n",
      "theta[0]   0.48  4.1e-3   0.04   0.39   0.45   0.48   0.51   0.57  116.0    1.0\n",
      "theta[1]   0.52  4.1e-3   0.04   0.43   0.49   0.52   0.55   0.61  116.0    1.0\n",
      "mu[0,0]    2.01  9.8e-3   0.11    1.8   1.94   2.01   2.09   2.22  126.0    1.0\n",
      "mu[1,0]    3.96  8.6e-3    0.1   3.76    3.9   3.96   4.02   4.16  121.0    1.0\n",
      "mu[0,1]    4.01    0.01   0.11   3.78   3.94    4.0   4.09   4.24  123.0    1.0\n",
      "mu[1,1]    2.02  8.6e-3    0.1   1.83   1.96   2.02   2.09    2.2  124.0    1.0\n",
      "sigma[0]   1.05  4.9e-3   0.05   0.96   1.02   1.05   1.09   1.16  121.0    1.0\n",
      "sigma[1]   1.01  4.3e-3   0.05   0.92   0.97   1.01   1.04    1.1  118.0    1.0\n",
      "lp__      -1349    0.17   1.85  -1354  -1350  -1349  -1348  -1346  113.0    1.0\n",
      "\n",
      "Samples were drawn using NUTS(diag_e) at Fri Jul 15 20:16:32 2016.\n",
      "For each parameter, n_eff is a crude measure of effective sample size,\n",
      "and Rhat is the potential scale reduction factor on split chains (at \n",
      "convergence, Rhat=1).\n"
     ]
    }
   ],
   "source": [
    "print fit"
   ]
  },
  {
   "cell_type": "code",
   "execution_count": 70,
   "metadata": {
    "collapsed": true,
    "slideshow": {
     "slide_type": "subslide"
    }
   },
   "outputs": [],
   "source": [
    "samples=fit.extract(permuted=False, inc_warmup=False)"
   ]
  },
  {
   "cell_type": "code",
   "execution_count": 88,
   "metadata": {
    "collapsed": false,
    "slideshow": {
     "slide_type": "subslide"
    }
   },
   "outputs": [
    {
     "name": "stdout",
     "output_type": "stream",
     "text": [
      "[0.5458490399648471, 1.091698079929167, 4.912641359683624, 18.558867358803749]\n"
     ]
    },
    {
     "data": {
      "text/plain": [
       "<matplotlib.collections.PathCollection at 0x1210e3710>"
      ]
     },
     "execution_count": 88,
     "metadata": {},
     "output_type": "execute_result"
    },
    {
     "data": {
      "image/png": "iVBORw0KGgoAAAANSUhEUgAAArEAAAK3CAYAAACSgxcwAAAABHNCSVQICAgIfAhkiAAAAAlwSFlz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\nYYglIiIiItf5/xeSk9r6LT9VAAAAAElFTkSuQmCC\n",
      "text/plain": [
       "<matplotlib.figure.Figure at 0x11a714b50>"
      ]
     },
     "metadata": {},
     "output_type": "display_data"
    }
   ],
   "source": [
    "import seaborn as sns\n",
    "sns.set(color_codes=True,font_scale=1.5)\n",
    "import pandas as pd\n",
    "sns.set_style(\"white\")\n",
    "\n",
    "\n",
    "\n",
    "s1=2\n",
    "s2=3\n",
    "import scipy\n",
    "# Make a 2d normed histogram\n",
    "H,xedges,yedges=np.histogram2d(samples[:,:,[s1]].reshape(samples.shape[0]*samples.shape[1]),samples[:,:,[s2]].reshape(samples.shape[0]*samples.shape[1]),bins=10,normed=True)\n",
    "\n",
    "norm=H.sum() # Find the norm of the sum\n",
    "# Set contour levels\n",
    "contour1=0.99\n",
    "contour2=0.95\n",
    "contour3=0.68\n",
    "\n",
    "# Set target levels as percentage of norm\n",
    "target1 = norm*contour1\n",
    "target2 = norm*contour2\n",
    "target3 = norm*contour3\n",
    "\n",
    "# Take histogram bin membership as proportional to Likelihood\n",
    "# This is true when data comes from a Markovian process\n",
    "def objective(limit, target):\n",
    "    w = np.where(H>limit)\n",
    "    count = H[w]\n",
    "    return count.sum() - target\n",
    "\n",
    "# Find levels by summing histogram to objective\n",
    "level1= scipy.optimize.bisect(objective, H.min(), H.max(), args=(target1,))\n",
    "level2= scipy.optimize.bisect(objective, H.min(), H.max(), args=(target2,))\n",
    "level3= scipy.optimize.bisect(objective, H.min(), H.max(), args=(target3,))\n",
    "\n",
    "# For nice contour shading with seaborn, define top level\n",
    "level4=H.max()\n",
    "levels=[level1,level2,level3,level4]\n",
    "\n",
    "print levels\n",
    "\n",
    "labels=[r'$\\mu_x$',r'$\\mu_y$']\n",
    "df = pd.DataFrame(samples[:,:,[s1,s2]].reshape(samples.shape[0]*samples.shape[1],2),columns=labels)\n",
    "g = sns.PairGrid(df,size=5)\n",
    "g.map_diag(sns.kdeplot,c='Red')\n",
    "g.map_lower(sns.kdeplot, cmap=\"Reds_d\",alpha=1,n_levels=levels,normed=True,shade=True,zorder=1)\n",
    "\n",
    "#g.set(ylim=(-1,3))\n",
    "#g.set(xlim=(-1,3))\n",
    "s1=4\n",
    "s2=5\n",
    "\n",
    "# Make a 2d normed histogram\n",
    "H,xedges,yedges=np.histogram2d(samples[:,:,[s1]].reshape(samples.shape[0]*samples.shape[1]),samples[:,:,[s2]].reshape(samples.shape[0]*samples.shape[1]),bins=10,normed=True)\n",
    "\n",
    "norm=H.sum() # Find the norm of the sum\n",
    "# Set contour levels\n",
    "contour1=0.99\n",
    "contour2=0.95\n",
    "contour3=0.68\n",
    "\n",
    "# Set target levels as percentage of norm\n",
    "target1 = norm*contour1\n",
    "target2 = norm*contour2\n",
    "target3 = norm*contour3\n",
    "\n",
    "# Take histogram bin membership as proportional to Likelihood\n",
    "# This is true when data comes from a Markovian process\n",
    "def objective(limit, target):\n",
    "    w = np.where(H>limit)\n",
    "    count = H[w]\n",
    "    return count.sum() - target\n",
    "\n",
    "# Find levels by summing histogram to objective\n",
    "level1= scipy.optimize.bisect(objective, H.min(), H.max(), args=(target1,))\n",
    "level2= scipy.optimize.bisect(objective, H.min(), H.max(), args=(target2,))\n",
    "level3= scipy.optimize.bisect(objective, H.min(), H.max(), args=(target3,))\n",
    "\n",
    "# For nice contour shading with seaborn, define top level\n",
    "level4=H.max()\n",
    "levels=[level1,level2,level3,level4]\n",
    "\n",
    "g.data=pd.DataFrame(samples[:,:,[s1,s2]].reshape(samples.shape[0]*samples.shape[1],2),columns=labels)\n",
    "g.map_diag(sns.kdeplot,c='Blue')\n",
    "g.map_lower(sns.kdeplot, cmap=\"Blues_d\",alpha=1,n_levels=levels,normed=True,shade=True,zorder=1)\n",
    "g.axes[1,0].scatter(data[:,0],data[:,1],alpha=0.5)\n",
    "\n",
    "\n"
   ]
  },
  {
   "cell_type": "code",
   "execution_count": 70,
   "metadata": {
    "collapsed": true,
    "slideshow": {
     "slide_type": "subslide"
    }
   },
   "outputs": [],
   "source": [
    "samples=fit.extract(permuted=False, inc_warmup=False)"
   ]
  },
  {
   "cell_type": "code",
   "execution_count": 88,
   "metadata": {
    "collapsed": false,
    "slideshow": {
     "slide_type": "subslide"
    }
   },
   "outputs": [
    {
     "name": "stdout",
     "output_type": "stream",
     "text": [
      "[0.5458490399648471, 1.091698079929167, 4.912641359683624, 18.558867358803749]\n"
     ]
    },
    {
     "data": {
      "text/plain": [
       "<matplotlib.collections.PathCollection at 0x1210e3710>"
      ]
     },
     "execution_count": 88,
     "metadata": {},
     "output_type": "execute_result"
    },
    {
     "data": {
      "image/png": "iVBORw0KGgoAAAANSUhEUgAAArEAAAK3CAYAAACSgxcwAAAABHNCSVQICAgIfAhkiAAAAAlwSFlz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\nYYglIiIiItf5/xeSk9r6LT9VAAAAAElFTkSuQmCC\n",
      "text/plain": [
       "<matplotlib.figure.Figure at 0x11a714b50>"
      ]
     },
     "metadata": {},
     "output_type": "display_data"
    }
   ],
   "source": [
    "import seaborn as sns\n",
    "sns.set(color_codes=True,font_scale=1.5)\n",
    "import pandas as pd\n",
    "sns.set_style(\"white\")\n",
    "\n",
    "\n",
    "\n",
    "s1=2\n",
    "s2=3\n",
    "import scipy\n",
    "# Make a 2d normed histogram\n",
    "H,xedges,yedges=np.histogram2d(samples[:,:,[s1]].reshape(samples.shape[0]*samples.shape[1]),samples[:,:,[s2]].reshape(samples.shape[0]*samples.shape[1]),bins=10,normed=True)\n",
    "\n",
    "norm=H.sum() # Find the norm of the sum\n",
    "# Set contour levels\n",
    "contour1=0.99\n",
    "contour2=0.95\n",
    "contour3=0.68\n",
    "\n",
    "# Set target levels as percentage of norm\n",
    "target1 = norm*contour1\n",
    "target2 = norm*contour2\n",
    "target3 = norm*contour3\n",
    "\n",
    "# Take histogram bin membership as proportional to Likelihood\n",
    "# This is true when data comes from a Markovian process\n",
    "def objective(limit, target):\n",
    "    w = np.where(H>limit)\n",
    "    count = H[w]\n",
    "    return count.sum() - target\n",
    "\n",
    "# Find levels by summing histogram to objective\n",
    "level1= scipy.optimize.bisect(objective, H.min(), H.max(), args=(target1,))\n",
    "level2= scipy.optimize.bisect(objective, H.min(), H.max(), args=(target2,))\n",
    "level3= scipy.optimize.bisect(objective, H.min(), H.max(), args=(target3,))\n",
    "\n",
    "# For nice contour shading with seaborn, define top level\n",
    "level4=H.max()\n",
    "levels=[level1,level2,level3,level4]\n",
    "\n",
    "print levels\n",
    "\n",
    "labels=[r'$\\mu_x$',r'$\\mu_y$']\n",
    "df = pd.DataFrame(samples[:,:,[s1,s2]].reshape(samples.shape[0]*samples.shape[1],2),columns=labels)\n",
    "g = sns.PairGrid(df,size=5)\n",
    "g.map_diag(sns.kdeplot,c='Red')\n",
    "g.map_lower(sns.kdeplot, cmap=\"Reds_d\",alpha=1,n_levels=levels,normed=True,shade=True,zorder=1)\n",
    "\n",
    "#g.set(ylim=(-1,3))\n",
    "#g.set(xlim=(-1,3))\n",
    "s1=4\n",
    "s2=5\n",
    "\n",
    "# Make a 2d normed histogram\n",
    "H,xedges,yedges=np.histogram2d(samples[:,:,[s1]].reshape(samples.shape[0]*samples.shape[1]),samples[:,:,[s2]].reshape(samples.shape[0]*samples.shape[1]),bins=10,normed=True)\n",
    "\n",
    "norm=H.sum() # Find the norm of the sum\n",
    "# Set contour levels\n",
    "contour1=0.99\n",
    "contour2=0.95\n",
    "contour3=0.68\n",
    "\n",
    "# Set target levels as percentage of norm\n",
    "target1 = norm*contour1\n",
    "target2 = norm*contour2\n",
    "target3 = norm*contour3\n",
    "\n",
    "# Take histogram bin membership as proportional to Likelihood\n",
    "# This is true when data comes from a Markovian process\n",
    "def objective(limit, target):\n",
    "    w = np.where(H>limit)\n",
    "    count = H[w]\n",
    "    return count.sum() - target\n",
    "\n",
    "# Find levels by summing histogram to objective\n",
    "level1= scipy.optimize.bisect(objective, H.min(), H.max(), args=(target1,))\n",
    "level2= scipy.optimize.bisect(objective, H.min(), H.max(), args=(target2,))\n",
    "level3= scipy.optimize.bisect(objective, H.min(), H.max(), args=(target3,))\n",
    "\n",
    "# For nice contour shading with seaborn, define top level\n",
    "level4=H.max()\n",
    "levels=[level1,level2,level3,level4]\n",
    "\n",
    "g.data=pd.DataFrame(samples[:,:,[s1,s2]].reshape(samples.shape[0]*samples.shape[1],2),columns=labels)\n",
    "g.map_diag(sns.kdeplot,c='Blue')\n",
    "g.map_lower(sns.kdeplot, cmap=\"Blues_d\",alpha=1,n_levels=levels,normed=True,shade=True,zorder=1)\n",
    "g.axes[1,0].scatter(data[:,0],data[:,1],alpha=0.5)\n",
    "\n",
    "\n"
   ]
  },
  {
   "cell_type": "code",
   "execution_count": null,
   "metadata": {
    "collapsed": true
   },
   "outputs": [],
   "source": []
  },
  {
   "cell_type": "code",
   "execution_count": null,
   "metadata": {
    "collapsed": true
   },
   "outputs": [],
   "source": []
  }
 ],
 "metadata": {
  "celltoolbar": "Slideshow",
  "kernelspec": {
   "display_name": "Python 2",
   "language": "python",
   "name": "python2"
  },
  "language_info": {
   "codemirror_mode": {
    "name": "ipython",
    "version": 2
   },
   "file_extension": ".py",
   "mimetype": "text/x-python",
   "name": "python",
   "nbconvert_exporter": "python",
   "pygments_lexer": "ipython2",
   "version": "2.7.10"
  }
 },
 "nbformat": 4,
 "nbformat_minor": 0
}
