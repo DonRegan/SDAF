{
 "cells": [
  {
   "cell_type": "markdown",
   "metadata": {
    "slideshow": {
     "slide_type": "slide"
    }
   },
   "source": [
    "# Week 1: Our Approach to Modelling Data\n",
    "## [Peter Hurley](http://www.sussex.ac.uk/profiles/188689) and [Phil Rooney](http://www.sussex.ac.uk/profiles/252374) "
   ]
  },
  {
   "cell_type": "markdown",
   "metadata": {
    "slideshow": {
     "slide_type": "slide"
    }
   },
   "source": [
    "## Bayesian Probability"
   ]
  },
  {
   "cell_type": "markdown",
   "metadata": {
    "slideshow": {
     "slide_type": "subslide"
    }
   },
   "source": [
    "### Medical Example"
   ]
  },
  {
   "cell_type": "markdown",
   "metadata": {
    "slideshow": {
     "slide_type": "subslide"
    }
   },
   "source": [
    "### Saturn Example"
   ]
  },
  {
   "cell_type": "markdown",
   "metadata": {
    "slideshow": {
     "slide_type": "subslide"
    }
   },
   "source": [
    "### Bayesian Inference"
   ]
  },
  {
   "cell_type": "markdown",
   "metadata": {
    "slideshow": {
     "slide_type": "slide"
    }
   },
   "source": [
    "## Probabilistic Programming\n",
    "\n",
    "Machine learning = black box"
   ]
  },
  {
   "cell_type": "markdown",
   "metadata": {},
   "source": [
    "#### Neuro example of black box problems"
   ]
  },
  {
   "cell_type": "markdown",
   "metadata": {},
   "source": [
    "## Generative modelling"
   ]
  },
  {
   "cell_type": "markdown",
   "metadata": {
    "slideshow": {
     "slide_type": "slide"
    }
   },
   "source": [
    "## Graphical Models\n",
    "\n",
    "No single agreed notation but:\n",
    "\n",
    "Always: \n",
    "\n",
    "Nodes represent variables and graph structure represent dependencies\n",
    "\n",
    "Almost Always: \n",
    "\n",
    "Plates indicate replication\n",
    "\n",
    "Optional Distinctions: \n",
    "\n",
    "Continuous vs Discrete\n",
    "Observed vs Hidden \n",
    "Stocastic vs Deterministic\n",
    "Observed Variables vs Known Property of Experimental Design"
   ]
  },
  {
   "cell_type": "markdown",
   "metadata": {},
   "source": [
    "### Binary process"
   ]
  },
  {
   "cell_type": "markdown",
   "metadata": {},
   "source": [
    "### Real world: Sprinkler grass wet"
   ]
  },
  {
   "cell_type": "markdown",
   "metadata": {
    "slideshow": {
     "slide_type": "slide"
    }
   },
   "source": [
    "## Pros and Cons\n"
   ]
  },
  {
   "cell_type": "markdown",
   "metadata": {
    "slideshow": {
     "slide_type": "slide"
    }
   },
   "source": [
    "# Examples\n",
    "-----------------"
   ]
  },
  {
   "cell_type": "markdown",
   "metadata": {},
   "source": [
    "## Single Variable\n",
    "\n"
   ]
  },
  {
   "cell_type": "code",
   "execution_count": 54,
   "metadata": {
    "collapsed": false
   },
   "outputs": [
    {
     "data": {
      "text/plain": [
       "Inference for Stan model: anon_model_08f3dae424b59a035b3b9af363c1083c.\n",
       "4 chains, each with iter=10000; warmup=5000; thin=1; \n",
       "post-warmup draws per chain=5000, total post-warmup draws=20000.\n",
       "\n",
       "        mean se_mean     sd   2.5%    25%    50%    75%  97.5%  n_eff   Rhat\n",
       "theta   0.45  1.6e-3    0.1   0.26   0.38   0.45   0.53   0.66 4219.0    1.0\n",
       "lp__  -15.67    0.01   0.73 -17.73 -15.84 -15.39 -15.21 -15.16 4550.0    1.0\n",
       "\n",
       "Samples were drawn using NUTS(diag_e) at Mon Jul 18 10:43:54 2016.\n",
       "For each parameter, n_eff is a crude measure of effective sample size,\n",
       "and Rhat is the potential scale reduction factor on split chains (at \n",
       "convergence, Rhat=1)."
      ]
     },
     "execution_count": 54,
     "metadata": {},
     "output_type": "execute_result"
    }
   ],
   "source": [
    "\n",
    "import pystan\n",
    "import numpy as np\n",
    "import seaborn as sns\n",
    "from astropy.table import Table\n",
    "%matplotlib inline\n",
    "\n",
    "\n",
    "one_var_model = \"\"\"\n",
    "\n",
    "// Inferring a Rate\n",
    "data { \n",
    "  int<lower=1> n; \n",
    "  int<lower=0> k;\n",
    "} \n",
    "parameters {\n",
    "  real<lower=0,upper=1> theta;\n",
    "} \n",
    "model {\n",
    "  // Prior Distribution for Rate Theta\n",
    "  theta ~ beta(1, 1);\n",
    "  \n",
    "  // Observed Counts\n",
    "  k ~ binomial(n, theta);\n",
    "}\n",
    "\"\"\"\n",
    "\n",
    "k = 9\n",
    "n = 20\n",
    "\n",
    "#k = 407\n",
    "#n = 800\n",
    "\n",
    "input_data = {'k':k, 'n':n}\n",
    "\n",
    "fit_onevar = pystan.stan(model_code=one_var_model, data=input_data, iter=10000, chains=4)\n",
    "\n",
    "\n",
    "fit_onevar\n",
    "\n"
   ]
  },
  {
   "cell_type": "code",
   "execution_count": 41,
   "metadata": {
    "collapsed": false,
    "scrolled": true
   },
   "outputs": [
    {
     "data": {
      "image/png": "[encoded data removed]",
      "text/plain": [
       "<matplotlib.figure.Figure at 0x11434ee10>"
      ]
     },
     "metadata": {},
     "output_type": "display_data"
    }
   ],
   "source": [
    "\n",
    "from __future__ import unicode_literals\n",
    "\n",
    "import matplotlib as mpl\n",
    "mpl.rcParams['text.usetex']=True\n",
    "mpl.rcParams['text.latex.unicode']=True\n",
    "\n",
    "import csv\n",
    "import numpy as np\n",
    "import matplotlib.pyplot as plt\tx\n",
    "from matplotlib.ticker import ScalarFormatter\n",
    "\n",
    "samples=fit_onevar.extract(permuted=False, inc_warmup=False)\n",
    "samples=samples[:,:,0].reshape(samples.shape[0]*samples.shape[1])\n",
    "\n",
    "fig = plt.figure()\n",
    "ax1 = fig.add_subplot(1,1,1)\n",
    "\n",
    "ax1.hist(samples, 30, color='#A3C2FF')\n",
    "ax1.set_axis_bgcolor('#F1F2F2')\n",
    "ax1.tick_params(axis=\"y\", labelcolor=\"b\")\n",
    "ax1.spines['right'].set_visible(False)\n",
    "ax1.spines['top'].set_visible(False)\n",
    "ax1.tick_params(axis='x', colors='#414042', labelcolor='#414042')\n",
    "ax1.tick_params(axis='y', colors='#414042',labelcolor='#414042')\n",
    "ax1.yaxis.label.set_color('#414042')\n",
    "ax1.xaxis.label.set_color('#414042')\n",
    "# Only show ticks on the left and bottom spines\n",
    "ax1.yaxis.set_ticks_position('left')\n",
    "ax1.xaxis.set_ticks_position('bottom')\n",
    "ax1.axhline(color='#414042', linewidth=2)\n",
    "\n",
    "plt.ylabel('Number of Bins)', color='#414042')\n",
    "ax1.spines['top'].set_color('red')\n",
    "\n",
    "plt.ylabel('Number of Trials', fontsize=20)\n",
    "plt.xlabel('Theta', fontsize=20)\n",
    "\n",
    "plt.show()"
   ]
  },
  {
   "cell_type": "markdown",
   "metadata": {},
   "source": [
    "\n",
    "## Schools "
   ]
  },
  {
   "cell_type": "markdown",
   "metadata": {},
   "source": [
    "## $p$ values"
   ]
  },
  {
   "cell_type": "code",
   "execution_count": 52,
   "metadata": {
    "collapsed": false
   },
   "outputs": [
    {
     "data": {
      "text/plain": [
       "Inference for Stan model: anon_model_cbdffd142e6b5f7643dd9a16a8322d7b.\n",
       "4 chains, each with iter=10000; warmup=5000; thin=1; \n",
       "post-warmup draws per chain=5000, total post-warmup draws=20000.\n",
       "\n",
       "            mean se_mean     sd   2.5%    25%    50%    75%  97.5%  n_eff   Rhat\n",
       "mu[0]       0.91  1.1e-3   0.07   0.77   0.86   0.91   0.96   1.05 4012.0    1.0\n",
       "mu[1]      99.63    0.03   1.73  96.24   98.5  99.64 100.75 103.07 4100.0    1.0\n",
       "lambda[0]   9.89    0.05   2.98   4.97   7.77   9.61   11.7  16.56 4253.0    1.0\n",
       "lambda[1]   0.02  7.7e-5 5.0e-3 8.4e-3   0.01   0.02   0.02   0.03 4211.0    1.0\n",
       "r          -0.76  1.5e-3   0.09   -0.9  -0.83  -0.78  -0.71  -0.53 3727.0    1.0\n",
       "sigma[0]    0.33  8.2e-4   0.05   0.25   0.29   0.32   0.36   0.45 4014.0    1.0\n",
       "sigma[1]     8.0    0.02   1.25   6.02    7.1   7.84   8.73  10.89 3995.0    1.0\n",
       "T[0,0]      0.11  5.8e-4   0.04   0.06   0.09    0.1   0.13    0.2 3960.0    1.0\n",
       "T[1,0]     -2.07    0.01   0.77  -3.97  -2.44  -1.94  -1.52  -0.98 3271.0    1.0\n",
       "T[0,1]     -2.07    0.01   0.77  -3.97  -2.44  -1.94  -1.52  -0.98 3271.0    1.0\n",
       "T[1,1]     65.52    0.34  21.36  36.27  50.44  61.48  76.24 118.59 3941.0    1.0\n",
       "lp__       -39.1    0.03   1.67 -43.28 -39.95 -38.77 -37.86 -36.91 3705.0    1.0\n",
       "\n",
       "Samples were drawn using NUTS(diag_e) at Sun Jul 17 17:10:11 2016.\n",
       "For each parameter, n_eff is a crude measure of effective sample size,\n",
       "and Rhat is the potential scale reduction factor on split chains (at \n",
       "convergence, Rhat=1)."
      ]
     },
     "execution_count": 52,
     "metadata": {},
     "output_type": "execute_result"
    }
   ],
   "source": [
    "pearson_model = \"\"\"\n",
    "// Pearson Correlation\n",
    "data { \n",
    "  int<lower=0> n;\n",
    "  vector[2] x[n];\n",
    "}\n",
    "parameters {\n",
    "  vector[2] mu;\n",
    "  vector<lower=0>[2] lambda;\n",
    "  real<lower=-1,upper=1> r;\n",
    "} \n",
    "transformed parameters {\n",
    "  vector<lower=0>[2] sigma;\n",
    "  cov_matrix[2] T;\n",
    "  // Reparameterization\n",
    "  sigma[1] <- inv_sqrt(lambda[1]);\n",
    "  sigma[2] <- inv_sqrt(lambda[2]);\n",
    "  T[1,1] <- square(sigma[1]);\n",
    "  T[1,2] <- r * sigma[1] * sigma[2];\n",
    "  T[2,1] <- r * sigma[1] * sigma[2];\n",
    "  T[2,2] <- square(sigma[2]);\n",
    "}\n",
    "model {\n",
    "  // Priors\n",
    "  mu ~ normal(0, inv_sqrt(.001));\n",
    "  lambda ~ gamma(.001, .001);\n",
    "  \n",
    "  // Data\n",
    "  x ~ multi_normal(mu, T);\n",
    "}\n",
    "\"\"\"\n",
    "\n",
    "#pearson_data = np.matrix([[.8,102], [1.0,98], [.5,100], [.9,105], [.7,103], [.4,110], [1.2,99], [1.4,87], [.6,113], [1.1,89], [1.3,93]])\n",
    "pearson_data = np.matrix([[.8,102,],[1.0,98,],[.5,100,],[.9,105,],[.7,103,],[.4,110,],[1.2,99,],[1.4,87,],[.6,113,],[1.1,89,],[1.3,93,],[.8,102,],[1.0,98,],[.5,100,],[.9,105,],[.7,103,],[.4,110,],[1.2,99,],[1.4,87,],[.6,113,],[1.1,89,],[1.3,93]])\n",
    "#n = 11\n",
    "n = 22\n",
    "parameters ={\"r\", \"mu\", \"sigma\"}\n",
    "\n",
    "data = {'x':pearson_data, 'n':n}\n",
    "\n",
    "samples_pearson = pystan.stan(model_code=pearson_model, data=data, iter=10000, chains=4)\n",
    "\n",
    "samples_pearson"
   ]
  },
  {
   "cell_type": "code",
   "execution_count": 53,
   "metadata": {
    "collapsed": false
   },
   "outputs": [
    {
     "data": {
      "image/png": "[encoded data removed]",
      "text/plain": [
       "<matplotlib.figure.Figure at 0x113de4ed0>"
      ]
     },
     "metadata": {},
     "output_type": "display_data"
    }
   ],
   "source": [
    "\n",
    "samples=samples_pearson.extract(permuted=False, inc_warmup=False)\n",
    "samples=samples[:,:,4].reshape(samples.shape[0]*samples.shape[1])\n",
    "\n",
    "fig = plt.figure()\n",
    "ax1 = fig.add_subplot(1,1,1)\n",
    "\n",
    "ax1.hist(samples, 30, color='#A3C2FF')\n",
    "ax1.set_axis_bgcolor('#F1F2F2')\n",
    "ax1.tick_params(axis=\"y\", labelcolor=\"b\")\n",
    "ax1.spines['right'].set_visible(False)\n",
    "ax1.spines['top'].set_visible(False)\n",
    "ax1.tick_params(axis='x', colors='#414042', labelcolor='#414042')\n",
    "ax1.tick_params(axis='y', colors='#414042',labelcolor='#414042')\n",
    "ax1.yaxis.label.set_color('#414042')\n",
    "ax1.xaxis.label.set_color('#414042')\n",
    "# Only show ticks on the left and bottom spines\n",
    "ax1.yaxis.set_ticks_position('left')\n",
    "ax1.xaxis.set_ticks_position('bottom')\n",
    "ax1.axhline(color='#414042', linewidth=2)\n",
    "\n",
    "plt.ylabel('Number of Bins)', color='#414042')\n",
    "ax1.spines['top'].set_color('red')\n",
    "\n",
    "plt.ylabel('Number of Trials', fontsize=20)\n",
    "plt.xlabel('r', fontsize=20)\n",
    "\n",
    "plt.show()"
   ]
  },
  {
   "cell_type": "markdown",
   "metadata": {},
   "source": [
    "$\\kappa$ Values"
   ]
  },
  {
   "cell_type": "code",
   "execution_count": 26,
   "metadata": {
    "collapsed": true
   },
   "outputs": [],
   "source": [
    "kappa_model =\"\"\"\n",
    "// Kappa Coefficient of Agreement\n",
    "data { \n",
    "  int<lower=0> y[4];\n",
    "}\n",
    "parameters {\n",
    "  // Underlying Rates\n",
    "  // Rate Objective Method Decides 'one'\n",
    "  real<lower=0,upper=1> alpha;\n",
    "  // Rate Surrogate Method Decides 'one' When Objective Method Decides 'one'\n",
    "  real<lower=0,upper=1> beta;\n",
    "  // Rate Surrogate Method Decides 'zero' When Objective Method Decides 'zero'\n",
    "  real<lower=0,upper=1> gamma;\n",
    "} \n",
    "transformed parameters {\n",
    "  simplex[4] pi;\n",
    "  real xi;\n",
    "  real psi;\n",
    "  real kappa;\n",
    "  // Probabilities For Each Count\n",
    "  pi[1] <- alpha * beta;\n",
    "  pi[2] <- alpha * (1 - beta);\n",
    "  pi[3] <- (1 - alpha) * (1 - gamma);\n",
    "  pi[4] <- (1 - alpha) * gamma;\n",
    "    \n",
    "  // Derived Measures   \n",
    "  // Rate Surrogate Method Agrees With the Objective Method\n",
    "  xi <- alpha * beta + (1 - alpha) * gamma ;\n",
    "  // Rate of Chance Agreement\n",
    "  psi <- (pi[1] + pi[2]) * (pi[1] + pi[3]) + (pi[2] + pi[4]) * (pi[3] + pi[4]);  \n",
    "  // Chance-Corrected Agreement\n",
    "  kappa <- (xi - psi) / (1 - psi);\n",
    "}\n",
    "model {\n",
    "  alpha ~ beta(1, 1);  // could be removed\n",
    "  beta ~ beta(1, 1);  // could be removed\n",
    "  gamma ~ beta(1, 1);  // could be removed\n",
    "  // Count Data     \n",
    "  y ~ multinomial(pi);\n",
    "}\n",
    "\"\"\"\n",
    "# CHOOSE a data set:\n",
    "# Influenza \n",
    "y = {14, 4, 5, 210}\n",
    "# Hearing Loss \n",
    "# y <- {20, 7, 103, 417}\n",
    "# Rare Disease\n",
    "# y <- {0, 0, 13, 157}\n",
    "\n",
    "data = {'y':y}\n",
    "parameters = {\"kappa\", \"xi\", \"psi\", \"alpha\", \"beta\", \"gamma\", \"pi\"}"
   ]
  },
  {
   "cell_type": "code",
   "execution_count": null,
   "metadata": {
    "collapsed": true
   },
   "outputs": [],
   "source": [
    "samples=samples_kappa.extract(permuted=False, inc_warmup=False)\n",
    "samples=samples[:,:,4].reshape(samples.shape[0]*samples.shape[1])\n",
    "\n",
    "fig = plt.figure()\n",
    "ax1 = fig.add_subplot(1,1,1)\n",
    "\n",
    "ax1.hist(samples, 30, color='#A3C2FF')\n",
    "ax1.set_axis_bgcolor('#F1F2F2')\n",
    "ax1.tick_params(axis=\"y\", labelcolor=\"b\")\n",
    "ax1.spines['right'].set_visible(False)\n",
    "ax1.spines['top'].set_visible(False)\n",
    "ax1.tick_params(axis='x', colors='#414042', labelcolor='#414042')\n",
    "ax1.tick_params(axis='y', colors='#414042',labelcolor='#414042')\n",
    "ax1.yaxis.label.set_color('#414042')\n",
    "ax1.xaxis.label.set_color('#414042')\n",
    "# Only show ticks on the left and bottom spines\n",
    "ax1.yaxis.set_ticks_position('left')\n",
    "ax1.xaxis.set_ticks_position('bottom')\n",
    "ax1.axhline(color='#414042', linewidth=2)\n",
    "\n",
    "plt.ylabel('Number of Bins)', color='#414042')\n",
    "ax1.spines['top'].set_color('red')\n",
    "\n",
    "plt.ylabel('Number of Trials', fontsize=20)\n",
    "plt.xlabel('r', fontsize=20)\n",
    "\n",
    "plt.show()"
   ]
  },
  {
   "cell_type": "markdown",
   "metadata": {},
   "source": [
    "## Regression"
   ]
  },
  {
   "cell_type": "markdown",
   "metadata": {},
   "source": [
    "#### Correlated Errors"
   ]
  },
  {
   "cell_type": "markdown",
   "metadata": {},
   "source": [
    "## Gaussian Mixtures Modelling"
   ]
  },
  {
   "cell_type": "code",
   "execution_count": null,
   "metadata": {
    "collapsed": true
   },
   "outputs": [],
   "source": []
  }
 ],
 "metadata": {
  "celltoolbar": "Slideshow",
  "kernelspec": {
   "display_name": "Python 2",
   "language": "python",
   "name": "python2"
  },
  "language_info": {
   "codemirror_mode": {
    "name": "ipython",
    "version": 2
   },
   "file_extension": ".py",
   "mimetype": "text/x-python",
   "name": "python",
   "nbconvert_exporter": "python",
   "pygments_lexer": "ipython2",
   "version": "2.7.9"
  }
 },
 "nbformat": 4,
 "nbformat_minor": 0
}
